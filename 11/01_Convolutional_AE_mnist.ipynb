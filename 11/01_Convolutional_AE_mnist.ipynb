{
  "nbformat": 4,
  "nbformat_minor": 0,
  "metadata": {
    "colab": {
      "name": "AE - 01 - Convolutional AutoEncoder.ipynb",
      "version": "0.3.2",
      "provenance": []
    },
    "kernelspec": {
      "name": "python3",
      "display_name": "Python 3"
    },
    "accelerator": "GPU"
  },
  "cells": [
    {
   "cell_type": "markdown",
   "metadata": {},
   "source": [
"# Copyright\n",
"<pre>\n",
"Jelen forráskód a Budapesti Műszaki és Gazdaságtudományi Egyetemen tartott\n",
"\"Deep Learning a gyakorlatban Python és LUA alapon\" tantárgy segédanyagaként készült.\n",
"\n",
"A tantárgy honlapja: http://smartlab.tmit.bme.hu/oktatas-deep-learning\n",
"Deep Learning kutatás: http://smartlab.tmit.bme.hu/deep-learning\n",
"\n",
"A forráskódot GPLv3 licensz védi. Újrafelhasználás esetén lehetőség szerint kérjük\n",
"az alábbi szerzőt értesíteni.\n",
"\n",
"2019 (c) Csapó Tamás Gábor (csapot kukac tmit pont bme pont hu),\n",
"Gyires-Tóth Bálint, Zainkó Csaba\n",
"\n",
"\n",
"Original Convolutional AutoEncoder example from:\n",
"\n",
"Links:\n",
"    [MNIST Dataset] http://yann.lecun.com/exdb/mnist/\n",
"    [Keras Convolutional AutoEncoder] https://blog.keras.io/building-autoencoders-in-keras.html\n",
"</pre>"
   ]
  },
    {
      "metadata": {
        "id": "8J17GJnhV2An",
        "colab_type": "code",
        "colab": {}
      },
      "cell_type": "code",
      "source": [
        "from keras.layers import Input, Dense, Convolution2D, MaxPooling2D, UpSampling2D\n",
        "from keras.models import Model\n",
        "\n"
      ],
      "execution_count": 0,
      "outputs": []
    },
    {
      "metadata": {
        "id": "C7SY4WoPV8Wx",
        "colab_type": "code",
        "colab": {}
      },
      "cell_type": "code",
      "source": [
        "# MNIST mérete: 28x28\n",
        "input_img = Input(shape=(28,28,1))"
      ],
      "execution_count": 0,
      "outputs": []
    },
    {
      "metadata": {
        "id": "SdZMl2ygV_9u",
        "colab_type": "code",
        "colab": {
          "base_uri": "https://localhost:8080/",
          "height": 374
        },
        "outputId": "10ef9b25-03b1-44c7-c4b7-14ac20aca393"
      },
      "cell_type": "code",
      "source": [
        "# encoder rész\n",
        "x = Convolution2D(16, (3,3), activation='relu', padding='same')(input_img) # padding=same -> a kimeneti kép ugyanakkora legyen, mint a bemenet\n",
        "x = MaxPooling2D((2,2), padding='same')(x)\n",
        "x = Convolution2D(8, (3,3), activation='relu', padding='same')(x)\n",
        "x = MaxPooling2D((2,2), padding='same')(x)\n",
        "x = Convolution2D(8, (3,3), activation='relu', padding='same')(x)\n",
        "encoded = MaxPooling2D((2,2), padding='same')(x)\n",
        "\n",
        "# modell az encoder-re\n",
        "encoder = Model(inputs = input_img, outputs = encoded)\n",
        "\n",
        "# itt (4 x 4 x 8) azaz 128-dimenziós reprezentáció\n",
        "\n",
        "encoder.summary()"
      ],
      "execution_count": 26,
      "outputs": [
        {
          "output_type": "stream",
          "text": [
            "_________________________________________________________________\n",
            "Layer (type)                 Output Shape              Param #   \n",
            "=================================================================\n",
            "input_4 (InputLayer)         (None, 28, 28, 1)         0         \n",
            "_________________________________________________________________\n",
            "conv2d_21 (Conv2D)           (None, 28, 28, 16)        160       \n",
            "_________________________________________________________________\n",
            "max_pooling2d_13 (MaxPooling (None, 14, 14, 16)        0         \n",
            "_________________________________________________________________\n",
            "conv2d_22 (Conv2D)           (None, 14, 14, 8)         1160      \n",
            "_________________________________________________________________\n",
            "max_pooling2d_14 (MaxPooling (None, 7, 7, 8)           0         \n",
            "_________________________________________________________________\n",
            "conv2d_23 (Conv2D)           (None, 7, 7, 8)           584       \n",
            "_________________________________________________________________\n",
            "max_pooling2d_15 (MaxPooling (None, 4, 4, 8)           0         \n",
            "=================================================================\n",
            "Total params: 1,904\n",
            "Trainable params: 1,904\n",
            "Non-trainable params: 0\n",
            "_________________________________________________________________\n"
          ],
          "name": "stdout"
        }
      ]
    },
    {
      "metadata": {
        "id": "D_1Np5H6WIaK",
        "colab_type": "code",
        "colab": {}
      },
      "cell_type": "code",
      "source": [
        "# decoder rész\n",
        "x = Convolution2D(8, (3,3), activation='relu', padding='same')(encoded)\n",
        "x = UpSampling2D((2,2))(x)\n",
        "x = Convolution2D(8, (3,3), activation='relu', padding='same')(x)\n",
        "x = UpSampling2D((2,2))(x)\n",
        "x = Convolution2D(16, (3,3), activation='relu')(x) # itt nincs padding, hogy 28x28 legyen a kimenet\n",
        "x = UpSampling2D((2,2))(x)\n",
        "decoded = Convolution2D(1, (3,3), activation='sigmoid', padding='same')(x)\n"
      ],
      "execution_count": 0,
      "outputs": []
    },
    {
      "metadata": {
        "id": "GNeRlL5-Xfa8",
        "colab_type": "code",
        "colab": {
          "base_uri": "https://localhost:8080/",
          "height": 612
        },
        "outputId": "0fcd4bd2-7746-4489-ef04-34c467f20f2b"
      },
      "cell_type": "code",
      "source": [
        "# modell a teljes AE-re\n",
        "autoencoder = Model(inputs = input_img, outputs = decoded)\n",
        "\n",
        "autoencoder.summary()\n",
        "\n",
        "autoencoder.compile(optimizer = 'adadelta', loss = 'binary_crossentropy')"
      ],
      "execution_count": 28,
      "outputs": [
        {
          "output_type": "stream",
          "text": [
            "_________________________________________________________________\n",
            "Layer (type)                 Output Shape              Param #   \n",
            "=================================================================\n",
            "input_4 (InputLayer)         (None, 28, 28, 1)         0         \n",
            "_________________________________________________________________\n",
            "conv2d_21 (Conv2D)           (None, 28, 28, 16)        160       \n",
            "_________________________________________________________________\n",
            "max_pooling2d_13 (MaxPooling (None, 14, 14, 16)        0         \n",
            "_________________________________________________________________\n",
            "conv2d_22 (Conv2D)           (None, 14, 14, 8)         1160      \n",
            "_________________________________________________________________\n",
            "max_pooling2d_14 (MaxPooling (None, 7, 7, 8)           0         \n",
            "_________________________________________________________________\n",
            "conv2d_23 (Conv2D)           (None, 7, 7, 8)           584       \n",
            "_________________________________________________________________\n",
            "max_pooling2d_15 (MaxPooling (None, 4, 4, 8)           0         \n",
            "_________________________________________________________________\n",
            "conv2d_24 (Conv2D)           (None, 4, 4, 8)           584       \n",
            "_________________________________________________________________\n",
            "up_sampling2d_7 (UpSampling2 (None, 8, 8, 8)           0         \n",
            "_________________________________________________________________\n",
            "conv2d_25 (Conv2D)           (None, 8, 8, 8)           584       \n",
            "_________________________________________________________________\n",
            "up_sampling2d_8 (UpSampling2 (None, 16, 16, 8)         0         \n",
            "_________________________________________________________________\n",
            "conv2d_26 (Conv2D)           (None, 14, 14, 16)        1168      \n",
            "_________________________________________________________________\n",
            "up_sampling2d_9 (UpSampling2 (None, 28, 28, 16)        0         \n",
            "_________________________________________________________________\n",
            "conv2d_27 (Conv2D)           (None, 28, 28, 1)         145       \n",
            "=================================================================\n",
            "Total params: 4,385\n",
            "Trainable params: 4,385\n",
            "Non-trainable params: 0\n",
            "_________________________________________________________________\n"
          ],
          "name": "stdout"
        }
      ]
    },
    {
      "metadata": {
        "id": "AuhevXYNXhdJ",
        "colab_type": "code",
        "colab": {
          "base_uri": "https://localhost:8080/",
          "height": 51
        },
        "outputId": "d071262f-3f2f-40b2-ef21-7b909408b45d"
      },
      "cell_type": "code",
      "source": [
        "# tanítóadatok\n",
        "from keras.datasets import mnist\n",
        "import numpy as np\n",
        "import matplotlib.pyplot as plt\n",
        "\n",
        "(x_train, _) ,(x_test, _) = mnist.load_data()\n",
        "\n",
        "print(x_train.shape, x_test.shape)\n",
        "\n",
        "x_train = x_train.astype('float32') / 255\n",
        "x_test = x_test.astype('float32') / 255\n",
        "x_train = np.reshape(x_train, (len(x_train), 28, 28, 1))\n",
        "x_test = np.reshape(x_test, (len(x_test), 28, 28, 1))\n",
        "\n",
        "# azért kell 4D-re átalakítani, mert a Convolution2D bemenete: (samples, rows, cols, channels)\n",
        "print(x_train.shape, x_test.shape)"
      ],
      "execution_count": 29,
      "outputs": [
        {
          "output_type": "stream",
          "text": [
            "(60000, 28, 28) (10000, 28, 28)\n",
            "(60000, 28, 28, 1) (10000, 28, 28, 1)\n"
          ],
          "name": "stdout"
        }
      ]
    },
    {
      "metadata": {
        "id": "MMImrM-6YM-f",
        "colab_type": "code",
        "colab": {
          "base_uri": "https://localhost:8080/",
          "height": 391
        },
        "outputId": "0cf86a38-be92-48f0-f589-0a215cebe4ce"
      },
      "cell_type": "code",
      "source": [
        "# tanítás\n",
        "autoencoder.fit(x_train, x_train,\n",
        "                epochs = 10,\n",
        "                batch_size = 128,\n",
        "                shuffle = True,\n",
        "                validation_data = (x_test, x_test))"
      ],
      "execution_count": 30,
      "outputs": [
        {
          "output_type": "stream",
          "text": [
            "Train on 60000 samples, validate on 10000 samples\n",
            "Epoch 1/10\n",
            "60000/60000 [==============================] - 11s 183us/step - loss: 0.2176 - val_loss: 0.1650\n",
            "Epoch 2/10\n",
            "60000/60000 [==============================] - 7s 115us/step - loss: 0.1596 - val_loss: 0.1535\n",
            "Epoch 3/10\n",
            "60000/60000 [==============================] - 7s 111us/step - loss: 0.1445 - val_loss: 0.1373\n",
            "Epoch 4/10\n",
            "60000/60000 [==============================] - 7s 111us/step - loss: 0.1360 - val_loss: 0.1298\n",
            "Epoch 5/10\n",
            "60000/60000 [==============================] - 7s 111us/step - loss: 0.1306 - val_loss: 0.1317\n",
            "Epoch 6/10\n",
            "60000/60000 [==============================] - 7s 109us/step - loss: 0.1259 - val_loss: 0.1274\n",
            "Epoch 7/10\n",
            "60000/60000 [==============================] - 7s 109us/step - loss: 0.1237 - val_loss: 0.1215\n",
            "Epoch 8/10\n",
            "60000/60000 [==============================] - 6s 108us/step - loss: 0.1216 - val_loss: 0.1192\n",
            "Epoch 9/10\n",
            "60000/60000 [==============================] - 6s 108us/step - loss: 0.1198 - val_loss: 0.1179\n",
            "Epoch 10/10\n",
            "60000/60000 [==============================] - 6s 108us/step - loss: 0.1184 - val_loss: 0.1205\n"
          ],
          "name": "stdout"
        },
        {
          "output_type": "execute_result",
          "data": {
            "text/plain": [
              "<keras.callbacks.History at 0x7f4fbbdd3160>"
            ]
          },
          "metadata": {
            "tags": []
          },
          "execution_count": 30
        }
      ]
    },
    {
      "metadata": {
        "id": "G2usX1hlY5hY",
        "colab_type": "code",
        "colab": {}
      },
      "cell_type": "code",
      "source": [
        "# néhány digiten encode és decode\n",
        "encoded_imgs = encoder.predict(x_test)\n",
        "decoded_imgs = autoencoder.predict(x_test)"
      ],
      "execution_count": 0,
      "outputs": []
    },
    {
      "metadata": {
        "id": "eCkfm_1Pb44E",
        "colab_type": "code",
        "colab": {
          "base_uri": "https://localhost:8080/",
          "height": 34
        },
        "outputId": "79ae2506-c581-423b-e6f1-e378f21e0f2f"
      },
      "cell_type": "code",
      "source": [
        "# milyen méretű a háló közepe, a 'bottleneck'?\n",
        "print(encoded_imgs.shape)"
      ],
      "execution_count": 33,
      "outputs": [
        {
          "output_type": "stream",
          "text": [
            "(10000, 4, 4, 8)\n"
          ],
          "name": "stdout"
        }
      ]
    },
    {
      "metadata": {
        "id": "WAaBlhoycAhA",
        "colab_type": "code",
        "colab": {
          "base_uri": "https://localhost:8080/",
          "height": 276
        },
        "outputId": "e74b6041-254e-42bb-c627-588b45d60886"
      },
      "cell_type": "code",
      "source": [
        "# eredeti és visszaállított képek kirajzolása\n",
        "n = 8\n",
        "plt.figure(figsize=(16, 4))\n",
        "for i in range(n):\n",
        "  # eredeti\n",
        "  ax = plt.subplot(2, n, i + 1)\n",
        "  ax.set_title('eredeti')\n",
        "  plt.imshow(x_test[i].reshape(28,28))\n",
        "  plt.gray()\n",
        "  ax.grid('False')\n",
        "  \n",
        "  # visszaállított\n",
        "  ax = plt.subplot(2, n, i + 1 + n)\n",
        "  ax.set_title('visszaállított')\n",
        "  plt.imshow(decoded_imgs[i].reshape(28,28))\n",
        "  plt.gray()  \n",
        "  ax.grid('False')\n",
        "plt.show()"
      ],
      "execution_count": 46,
      "outputs": [
        {
          "output_type": "display_data",
          "data": {
            "image/png": "[encoded data removed]",
            "text/plain": [
              "<matplotlib.figure.Figure at 0x7f4fb53c1550>"
            ]
          },
          "metadata": {
            "tags": []
          }
        }
      ]
    },
    {
      "metadata": {
        "id": "UZ8YTmg4gm_M",
        "colab_type": "code",
        "colab": {
          "base_uri": "https://localhost:8080/",
          "height": 34
        },
        "outputId": "cddbe7f0-fd1a-4e9a-a46f-6d333d4a30ab"
      },
      "cell_type": "code",
      "source": [
        "print(encoded_imgs[i].shape)"
      ],
      "execution_count": 49,
      "outputs": [
        {
          "output_type": "stream",
          "text": [
            "(4, 4, 8)\n"
          ],
          "name": "stdout"
        }
      ]
    },
    {
      "metadata": {
        "id": "2o_BS32Rhs2s",
        "colab_type": "code",
        "colab": {
          "base_uri": "https://localhost:8080/",
          "height": 266
        },
        "outputId": "f8967b2a-6415-4196-a76a-cc2d05dff6b3"
      },
      "cell_type": "code",
      "source": [
        "# encoder utáni eredmény, bottleneck reprezentáció\n",
        "n = 8\n",
        "plt.figure(figsize=(16, 4))\n",
        "for i in range(n):\n",
        "  # eredeti\n",
        "  ax = plt.subplot(1, n, i + 1)\n",
        "  plt.imshow(encoded_imgs[i].reshape(4, 4*8).T)\n",
        "  plt.gray()\n",
        "  ax.grid('False')"
      ],
      "execution_count": 51,
      "outputs": [
        {
          "output_type": "display_data",
          "data": {
            "image/png": "[encoded data removed]",
            "text/plain": [
              "<matplotlib.figure.Figure at 0x7f4fb535ce10>"
            ]
          },
          "metadata": {
            "tags": []
          }
        }
      ]
    },
    {
      "metadata": {
        "id": "Ut-F7425h0P0",
        "colab_type": "code",
        "colab": {}
      },
      "cell_type": "code",
      "source": [
        ""
      ],
      "execution_count": 0,
      "outputs": []
    }
  ]
}