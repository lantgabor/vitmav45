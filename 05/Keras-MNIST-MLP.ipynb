{
 "cells": [
  {
   "cell_type": "markdown",
   "metadata": {},
   "source": [
    "# Copyright\n",
    "\n",
    "<PRE>\n",
    "Jelen Jupyter notebook a Budapesti Műszaki és Gazdaságtudományi Egyetemen tartott \"Deep Learning a gyakorlatban Python és LUA alapon\" tantárgy segédanyagaként készült. \n",
    "A tantárgy honlapja: http://smartlab.tmit.bme.hu/oktatas-deep-learning\n",
    "Deep Learning kutatás: http://smartlab.tmit.bme.hu/deep-learning\n",
    "\n",
    "A notebook bármely részének újra felhasználása, publikálása csak a szerzők írásos beleegyezése esetén megegengedett.\n",
    "\n",
    "2019 (c) Gyires-Tóth Bálint (toth.b kukac tmit pont bme pont hu)\n",
    "</PRE>"
   ]
  },
  {
   "cell_type": "markdown",
   "metadata": {},
   "source": [
    "# MNIST adatbázis tanítása MLP-vel"
   ]
  },
  {
   "cell_type": "markdown",
   "metadata": {},
   "source": [
    "Először hozzuk létre a hálózatot:"
   ]
  },
  {
   "cell_type": "code",
   "execution_count": 1,
   "metadata": {},
   "outputs": [
    {
     "name": "stderr",
     "output_type": "stream",
     "text": [
      "Using TensorFlow backend.\n"
     ]
    }
   ],
   "source": [
    "import numpy as np\n",
    "import matplotlib.pyplot as plt\n",
    "\n",
    "%matplotlib inline\n",
    "\n",
    "from keras.models import Sequential\n",
    "from keras.layers.core import Dense\n",
    "from keras.optimizers import SGD\n",
    "\n",
    "nb_classes = 10\n",
    "\n",
    "model = Sequential()\n",
    "model.add(Dense(256, activation='relu', input_shape=(784,)))\n",
    "model.add(Dense(256, activation='relu'))\n",
    "model.add(Dense(nb_classes, activation='softmax'))\n",
    "\n",
    "model.compile(loss='categorical_crossentropy', optimizer=SGD(lr=0.001), \n",
    "              metrics=['accuracy'])\n",
    "\n"
   ]
  },
  {
   "cell_type": "markdown",
   "metadata": {},
   "source": [
    "Ezt követően töltsük be az MNIST adatbázist:"
   ]
  },
  {
   "cell_type": "code",
   "execution_count": 2,
   "metadata": {},
   "outputs": [],
   "source": [
    "from keras.datasets import mnist\n",
    "from keras.utils import np_utils\n",
    "\n",
    "(X_train, y_train), (X_test, y_test) = mnist.load_data()"
   ]
  },
  {
   "cell_type": "code",
   "execution_count": 3,
   "metadata": {},
   "outputs": [
    {
     "name": "stdout",
     "output_type": "stream",
     "text": [
      "(60000, 28, 28)\n",
      "(10000, 28, 28)\n",
      "(60000,)\n",
      "(10000,)\n"
     ]
    }
   ],
   "source": [
    "print(X_train.shape)\n",
    "print(X_test.shape)\n",
    "print(y_train.shape)\n",
    "print(y_test.shape)"
   ]
  },
  {
   "cell_type": "code",
   "execution_count": 4,
   "metadata": {
    "collapsed": true
   },
   "outputs": [],
   "source": [
    "X_train = X_train.reshape(60000, -1)\n",
    "X_test = X_test.reshape(10000, -1)\n",
    "X_train = X_train.astype(\"float32\")\n",
    "X_test = X_test.astype(\"float32\")\n",
    "\n",
    "# Put everything on grayscale\n",
    "X_train /= 255\n",
    "X_test /= 255\n",
    "\n",
    "# a kimenetet onehot kódolásúvá alakítjuk\n",
    "Y_train = np_utils.to_categorical(y_train, nb_classes)\n",
    "Y_test = np_utils.to_categorical(y_test, nb_classes)"
   ]
  },
  {
   "cell_type": "code",
   "execution_count": 5,
   "metadata": {},
   "outputs": [
    {
     "name": "stdout",
     "output_type": "stream",
     "text": [
      "(60000, 784)\n",
      "(10000, 784)\n",
      "(60000, 10)\n",
      "(10000, 10)\n",
      "[0 1 2 3 4 5 6 7 8 9]\n",
      "[0 0 0 0 0 1 0 0 0 0]\n"
     ]
    }
   ],
   "source": [
    "print(X_train.shape)\n",
    "print(X_test.shape)\n",
    "print(Y_train.shape)\n",
    "print(Y_test.shape)\n",
    "print(np.asarray(range(nb_classes)))\n",
    "print(Y_train[0].astype(np.int))\n"
   ]
  },
  {
   "cell_type": "code",
   "execution_count": 6,
   "metadata": {},
   "outputs": [
    {
     "name": "stdout",
     "output_type": "stream",
     "text": [
      "[0.         0.         0.         0.         0.         0.\n",
      " 0.         0.         0.         0.         0.         0.\n",
      " 0.         0.         0.         0.         0.         0.\n",
      " 0.         0.         0.         0.         0.         0.\n",
      " 0.         0.         0.         0.         0.         0.\n",
      " 0.         0.         0.         0.         0.         0.\n",
      " 0.         0.         0.         0.         0.         0.\n",
      " 0.         0.         0.         0.         0.         0.\n",
      " 0.         0.         0.         0.         0.         0.\n",
      " 0.         0.         0.         0.         0.         0.\n",
      " 0.         0.         0.         0.         0.         0.\n",
      " 0.         0.         0.         0.         0.         0.\n",
      " 0.         0.         0.         0.         0.         0.\n",
      " 0.         0.         0.         0.         0.         0.\n",
      " 0.         0.         0.         0.         0.         0.\n",
      " 0.         0.         0.         0.         0.         0.\n",
      " 0.         0.         0.         0.         0.         0.\n",
      " 0.         0.         0.         0.         0.         0.\n",
      " 0.         0.         0.         0.         0.         0.\n",
      " 0.         0.         0.         0.         0.         0.\n",
      " 0.         0.         0.         0.         0.         0.\n",
      " 0.         0.         0.         0.         0.         0.\n",
      " 0.         0.         0.         0.         0.         0.\n",
      " 0.         0.         0.         0.         0.         0.\n",
      " 0.         0.         0.         0.         0.         0.\n",
      " 0.         0.         0.01176471 0.07058824 0.07058824 0.07058824\n",
      " 0.49411765 0.53333336 0.6862745  0.10196079 0.6509804  1.\n",
      " 0.96862745 0.49803922 0.         0.         0.         0.\n",
      " 0.         0.         0.         0.         0.         0.\n",
      " 0.         0.         0.11764706 0.14117648 0.36862746 0.6039216\n",
      " 0.6666667  0.99215686 0.99215686 0.99215686 0.99215686 0.99215686\n",
      " 0.88235295 0.6745098  0.99215686 0.9490196  0.7647059  0.2509804\n",
      " 0.         0.         0.         0.         0.         0.\n",
      " 0.         0.         0.         0.         0.         0.19215687\n",
      " 0.93333334 0.99215686 0.99215686 0.99215686 0.99215686 0.99215686\n",
      " 0.99215686 0.99215686 0.99215686 0.9843137  0.3647059  0.32156864\n",
      " 0.32156864 0.21960784 0.15294118 0.         0.         0.\n",
      " 0.         0.         0.         0.         0.         0.\n",
      " 0.         0.         0.         0.07058824 0.85882354 0.99215686\n",
      " 0.99215686 0.99215686 0.99215686 0.99215686 0.7764706  0.7137255\n",
      " 0.96862745 0.94509804 0.         0.         0.         0.\n",
      " 0.         0.         0.         0.         0.         0.\n",
      " 0.         0.         0.         0.         0.         0.\n",
      " 0.         0.         0.3137255  0.6117647  0.41960785 0.99215686\n",
      " 0.99215686 0.8039216  0.04313726 0.         0.16862746 0.6039216\n",
      " 0.         0.         0.         0.         0.         0.\n",
      " 0.         0.         0.         0.         0.         0.\n",
      " 0.         0.         0.         0.         0.         0.\n",
      " 0.         0.05490196 0.00392157 0.6039216  0.99215686 0.3529412\n",
      " 0.         0.         0.         0.         0.         0.\n",
      " 0.         0.         0.         0.         0.         0.\n",
      " 0.         0.         0.         0.         0.         0.\n",
      " 0.         0.         0.         0.         0.         0.\n",
      " 0.         0.54509807 0.99215686 0.74509805 0.00784314 0.\n",
      " 0.         0.         0.         0.         0.         0.\n",
      " 0.         0.         0.         0.         0.         0.\n",
      " 0.         0.         0.         0.         0.         0.\n",
      " 0.         0.         0.         0.         0.         0.04313726\n",
      " 0.74509805 0.99215686 0.27450982 0.         0.         0.\n",
      " 0.         0.         0.         0.         0.         0.\n",
      " 0.         0.         0.         0.         0.         0.\n",
      " 0.         0.         0.         0.         0.         0.\n",
      " 0.         0.         0.         0.         0.13725491 0.94509804\n",
      " 0.88235295 0.627451   0.42352942 0.00392157 0.         0.\n",
      " 0.         0.         0.         0.         0.         0.\n",
      " 0.         0.         0.         0.         0.         0.\n",
      " 0.         0.         0.         0.         0.         0.\n",
      " 0.         0.         0.         0.31764707 0.9411765  0.99215686\n",
      " 0.99215686 0.46666667 0.09803922 0.         0.         0.\n",
      " 0.         0.         0.         0.         0.         0.\n",
      " 0.         0.         0.         0.         0.         0.\n",
      " 0.         0.         0.         0.         0.         0.\n",
      " 0.         0.         0.1764706  0.7294118  0.99215686 0.99215686\n",
      " 0.5882353  0.10588235 0.         0.         0.         0.\n",
      " 0.         0.         0.         0.         0.         0.\n",
      " 0.         0.         0.         0.         0.         0.\n",
      " 0.         0.         0.         0.         0.         0.\n",
      " 0.         0.0627451  0.3647059  0.9882353  0.99215686 0.73333335\n",
      " 0.         0.         0.         0.         0.         0.\n",
      " 0.         0.         0.         0.         0.         0.\n",
      " 0.         0.         0.         0.         0.         0.\n",
      " 0.         0.         0.         0.         0.         0.\n",
      " 0.         0.9764706  0.99215686 0.9764706  0.2509804  0.\n",
      " 0.         0.         0.         0.         0.         0.\n",
      " 0.         0.         0.         0.         0.         0.\n",
      " 0.         0.         0.         0.         0.         0.\n",
      " 0.         0.         0.18039216 0.50980395 0.7176471  0.99215686\n",
      " 0.99215686 0.8117647  0.00784314 0.         0.         0.\n",
      " 0.         0.         0.         0.         0.         0.\n",
      " 0.         0.         0.         0.         0.         0.\n",
      " 0.         0.         0.         0.         0.15294118 0.5803922\n",
      " 0.8980392  0.99215686 0.99215686 0.99215686 0.98039216 0.7137255\n",
      " 0.         0.         0.         0.         0.         0.\n",
      " 0.         0.         0.         0.         0.         0.\n",
      " 0.         0.         0.         0.         0.         0.\n",
      " 0.09411765 0.44705883 0.8666667  0.99215686 0.99215686 0.99215686\n",
      " 0.99215686 0.7882353  0.30588236 0.         0.         0.\n",
      " 0.         0.         0.         0.         0.         0.\n",
      " 0.         0.         0.         0.         0.         0.\n",
      " 0.         0.         0.09019608 0.25882354 0.8352941  0.99215686\n",
      " 0.99215686 0.99215686 0.99215686 0.7764706  0.31764707 0.00784314\n",
      " 0.         0.         0.         0.         0.         0.\n",
      " 0.         0.         0.         0.         0.         0.\n",
      " 0.         0.         0.         0.         0.07058824 0.67058825\n",
      " 0.85882354 0.99215686 0.99215686 0.99215686 0.99215686 0.7647059\n",
      " 0.3137255  0.03529412 0.         0.         0.         0.\n",
      " 0.         0.         0.         0.         0.         0.\n",
      " 0.         0.         0.         0.         0.         0.\n",
      " 0.21568628 0.6745098  0.8862745  0.99215686 0.99215686 0.99215686\n",
      " 0.99215686 0.95686275 0.52156866 0.04313726 0.         0.\n",
      " 0.         0.         0.         0.         0.         0.\n",
      " 0.         0.         0.         0.         0.         0.\n",
      " 0.         0.         0.         0.         0.53333336 0.99215686\n",
      " 0.99215686 0.99215686 0.83137256 0.5294118  0.5176471  0.0627451\n",
      " 0.         0.         0.         0.         0.         0.\n",
      " 0.         0.         0.         0.         0.         0.\n",
      " 0.         0.         0.         0.         0.         0.\n",
      " 0.         0.         0.         0.         0.         0.\n",
      " 0.         0.         0.         0.         0.         0.\n",
      " 0.         0.         0.         0.         0.         0.\n",
      " 0.         0.         0.         0.         0.         0.\n",
      " 0.         0.         0.         0.         0.         0.\n",
      " 0.         0.         0.         0.         0.         0.\n",
      " 0.         0.         0.         0.         0.         0.\n",
      " 0.         0.         0.         0.         0.         0.\n",
      " 0.         0.         0.         0.         0.         0.\n",
      " 0.         0.         0.         0.         0.         0.\n",
      " 0.         0.         0.         0.         0.         0.\n",
      " 0.         0.         0.         0.         0.         0.\n",
      " 0.         0.         0.         0.         0.         0.\n",
      " 0.         0.         0.         0.        ]\n"
     ]
    },
    {
     "data": {
      "text/plain": [
       "<matplotlib.image.AxesImage at 0x15161cf8>"
      ]
     },
     "execution_count": 6,
     "metadata": {},
     "output_type": "execute_result"
    },
    {
     "data": {
      "image/png": "[encoded data removed]",
      "text/plain": [
       "<Figure size 600x400 with 1 Axes>"
      ]
     },
     "metadata": {},
     "output_type": "display_data"
    }
   ],
   "source": [
    "print(X_train[0])\n",
    "plt.imshow(X_train[0].reshape(28, 28))"
   ]
  },
  {
   "cell_type": "markdown",
   "metadata": {},
   "source": [
    "Majd tanítsuk be a modellünket. Most nem határoztunk meg külön validációs adatbázist, hanem a model.fit függvény validation_split paramétereként adjuk meg, hogy hány százalékot használjon fel validációs célokra a tanítás:"
   ]
  },
  {
   "cell_type": "code",
   "execution_count": 38,
   "metadata": {},
   "outputs": [
    {
     "name": "stdout",
     "output_type": "stream",
     "text": [
      "Train on 48000 samples, validate on 12000 samples\n",
      "Epoch 1/30\n",
      "48000/48000 [==============================] - 8s 158us/step - loss: 0.4748 - acc: 0.8799 - val_loss: 0.4354 - val_acc: 0.8933\n",
      "Epoch 2/30\n",
      "48000/48000 [==============================] - 8s 157us/step - loss: 0.4604 - acc: 0.8817 - val_loss: 0.4227 - val_acc: 0.8952\n",
      "Epoch 3/30\n",
      "48000/48000 [==============================] - 8s 160us/step - loss: 0.4475 - acc: 0.8845 - val_loss: 0.4113 - val_acc: 0.8962\n",
      "Epoch 4/30\n",
      "48000/48000 [==============================] - 9s 191us/step - loss: 0.4361 - acc: 0.8861 - val_loss: 0.4012 - val_acc: 0.8980\n",
      "Epoch 5/30\n",
      "48000/48000 [==============================] - 9s 182us/step - loss: 0.4257 - acc: 0.8881 - val_loss: 0.3921 - val_acc: 0.8993\n",
      "Epoch 6/30\n",
      "48000/48000 [==============================] - 7s 139us/step - loss: 0.4164 - acc: 0.8899 - val_loss: 0.3838 - val_acc: 0.9007\n",
      "Epoch 7/30\n",
      "48000/48000 [==============================] - 7s 141us/step - loss: 0.4079 - acc: 0.8916 - val_loss: 0.3765 - val_acc: 0.9019\n",
      "Epoch 8/30\n",
      "48000/48000 [==============================] - 6s 131us/step - loss: 0.4001 - acc: 0.8928 - val_loss: 0.3696 - val_acc: 0.9035\n",
      "Epoch 9/30\n",
      "48000/48000 [==============================] - 6s 131us/step - loss: 0.3930 - acc: 0.8943 - val_loss: 0.3634 - val_acc: 0.9036\n",
      "Epoch 10/30\n",
      "48000/48000 [==============================] - 7s 142us/step - loss: 0.3864 - acc: 0.8962 - val_loss: 0.3576 - val_acc: 0.9041\n",
      "Epoch 11/30\n",
      "48000/48000 [==============================] - 8s 172us/step - loss: 0.3803 - acc: 0.8969 - val_loss: 0.3523 - val_acc: 0.9052\n",
      "Epoch 12/30\n",
      "48000/48000 [==============================] - 10s 202us/step - loss: 0.3747 - acc: 0.8983 - val_loss: 0.3474 - val_acc: 0.9063\n",
      "Epoch 13/30\n",
      "48000/48000 [==============================] - 10s 208us/step - loss: 0.3693 - acc: 0.8992 - val_loss: 0.3427 - val_acc: 0.9068\n",
      "Epoch 14/30\n",
      "48000/48000 [==============================] - 9s 195us/step - loss: 0.3643 - acc: 0.9002 - val_loss: 0.3386 - val_acc: 0.9074\n",
      "Epoch 15/30\n",
      "48000/48000 [==============================] - 10s 199us/step - loss: 0.3597 - acc: 0.9010 - val_loss: 0.3344 - val_acc: 0.9077\n",
      "Epoch 16/30\n",
      "48000/48000 [==============================] - 8s 175us/step - loss: 0.3553 - acc: 0.9020 - val_loss: 0.3305 - val_acc: 0.9097\n",
      "Epoch 17/30\n",
      "48000/48000 [==============================] - 8s 176us/step - loss: 0.3511 - acc: 0.9034 - val_loss: 0.3269 - val_acc: 0.9097\n",
      "Epoch 18/30\n",
      "48000/48000 [==============================] - 9s 196us/step - loss: 0.3471 - acc: 0.9042 - val_loss: 0.3238 - val_acc: 0.9111\n",
      "Epoch 19/30\n",
      "48000/48000 [==============================] - 9s 182us/step - loss: 0.3434 - acc: 0.9053 - val_loss: 0.3204 - val_acc: 0.9114\n",
      "Epoch 20/30\n",
      "48000/48000 [==============================] - 9s 180us/step - loss: 0.3398 - acc: 0.9061 - val_loss: 0.3173 - val_acc: 0.9117\n",
      "Epoch 21/30\n",
      "48000/48000 [==============================] - 10s 209us/step - loss: 0.3364 - acc: 0.9070 - val_loss: 0.3143 - val_acc: 0.9127\n",
      "Epoch 22/30\n",
      "48000/48000 [==============================] - 14s 287us/step - loss: 0.3331 - acc: 0.9077 - val_loss: 0.3115 - val_acc: 0.9131\n",
      "Epoch 23/30\n",
      "48000/48000 [==============================] - 16s 343us/step - loss: 0.3299 - acc: 0.9087 - val_loss: 0.3090 - val_acc: 0.9143\n",
      "Epoch 24/30\n",
      "48000/48000 [==============================] - 14s 288us/step - loss: 0.3269 - acc: 0.9096 - val_loss: 0.3063 - val_acc: 0.9146\n",
      "Epoch 25/30\n",
      "48000/48000 [==============================] - 11s 239us/step - loss: 0.3240 - acc: 0.9101 - val_loss: 0.3037 - val_acc: 0.9155\n",
      "Epoch 26/30\n",
      "48000/48000 [==============================] - 12s 243us/step - loss: 0.3212 - acc: 0.9109 - val_loss: 0.3015 - val_acc: 0.9161\n",
      "Epoch 27/30\n",
      "48000/48000 [==============================] - 11s 238us/step - loss: 0.3185 - acc: 0.9116 - val_loss: 0.2991 - val_acc: 0.9165\n",
      "Epoch 28/30\n",
      "48000/48000 [==============================] - 11s 237us/step - loss: 0.3159 - acc: 0.9124 - val_loss: 0.2969 - val_acc: 0.9171\n",
      "Epoch 29/30\n",
      "48000/48000 [==============================] - 11s 238us/step - loss: 0.3134 - acc: 0.9131 - val_loss: 0.2949 - val_acc: 0.9171\n",
      "Epoch 30/30\n",
      "48000/48000 [==============================] - 11s 225us/step - loss: 0.3110 - acc: 0.9134 - val_loss: 0.2928 - val_acc: 0.9183\n"
     ]
    }
   ],
   "source": [
    "network_history = model.fit(X_train, Y_train, batch_size=128, \n",
    "                            epochs=30, verbose=1, validation_split=0.2)"
   ]
  },
  {
   "cell_type": "markdown",
   "metadata": {},
   "source": [
    "Ezután jelenítsük meg, a tanítás során a hibát és a pontosságot a tanító és validációs adatokon:"
   ]
  },
  {
   "cell_type": "code",
   "execution_count": 39,
   "metadata": {},
   "outputs": [
    {
     "data": {
      "image/png": "[encoded data removed]",
      "text/plain": [
       "<Figure size 600x400 with 1 Axes>"
      ]
     },
     "metadata": {},
     "output_type": "display_data"
    },
    {
     "data": {
      "image/png": "[encoded data removed]",
      "text/plain": [
       "<Figure size 600x400 with 1 Axes>"
      ]
     },
     "metadata": {},
     "output_type": "display_data"
    }
   ],
   "source": [
    "def plot_history(network_history):\n",
    "    plt.figure()\n",
    "    plt.xlabel('Epochs')\n",
    "    plt.ylabel('Loss')\n",
    "    plt.plot(network_history.history['loss'])\n",
    "    plt.plot(network_history.history['val_loss'])\n",
    "    plt.legend(['Training', 'Validation'])\n",
    "\n",
    "    plt.figure()\n",
    "    plt.xlabel('Epochs')\n",
    "    plt.ylabel('Accuracy')\n",
    "    plt.plot(network_history.history['acc'])\n",
    "    plt.plot(network_history.history['val_acc'])\n",
    "    plt.legend(['Training', 'Validation'], loc='lower right')\n",
    "    plt.show()\n",
    "\n",
    "plot_history(network_history)"
   ]
  },
  {
   "cell_type": "markdown",
   "metadata": {},
   "source": [
    "# Hálózat vizsgálata"
   ]
  },
  {
   "cell_type": "code",
   "execution_count": 30,
   "metadata": {},
   "outputs": [
    {
     "name": "stdout",
     "output_type": "stream",
     "text": [
      "_________________________________________________________________\n",
      "Layer (type)                 Output Shape              Param #   \n",
      "=================================================================\n",
      "dense_1 (Dense)              (None, 512)               401920    \n",
      "_________________________________________________________________\n",
      "dense_2 (Dense)              (None, 512)               262656    \n",
      "_________________________________________________________________\n",
      "dense_3 (Dense)              (None, 10)                5130      \n",
      "=================================================================\n",
      "Total params: 669,706\n",
      "Trainable params: 669,706\n",
      "Non-trainable params: 0\n",
      "_________________________________________________________________\n"
     ]
    }
   ],
   "source": [
    "model.summary()"
   ]
  },
  {
   "cell_type": "code",
   "execution_count": 31,
   "metadata": {},
   "outputs": [
    {
     "name": "stdout",
     "output_type": "stream",
     "text": [
      "Bemenet:  Tensor(\"dense_1_input:0\", shape=(?, 784), dtype=float32)\n"
     ]
    }
   ],
   "source": [
    "print('Bemenet: ', model.input)"
   ]
  },
  {
   "cell_type": "code",
   "execution_count": 32,
   "metadata": {},
   "outputs": [
    {
     "name": "stdout",
     "output_type": "stream",
     "text": [
      "Rétegek:\n",
      "\n",
      "Réteg neve:  dense_1 , tanítható:  True\n",
      "{'name': 'dense_1', 'batch_input_shape': (None, 784), 'use_bias': True, 'bias_regularizer': None, 'kernel_initializer': {'config': {'mode': 'fan_avg', 'distribution': 'uniform', 'seed': None, 'scale': 1.0}, 'class_name': 'VarianceScaling'}, 'kernel_constraint': None, 'bias_constraint': None, 'dtype': 'float32', 'activity_regularizer': None, 'activation': 'relu', 'bias_initializer': {'config': {}, 'class_name': 'Zeros'}, 'units': 512, 'trainable': True, 'kernel_regularizer': None} \n",
      "\n",
      "Réteg neve:  dense_2 , tanítható:  True\n",
      "{'name': 'dense_2', 'use_bias': True, 'bias_regularizer': None, 'kernel_initializer': {'config': {'mode': 'fan_avg', 'distribution': 'uniform', 'seed': None, 'scale': 1.0}, 'class_name': 'VarianceScaling'}, 'kernel_constraint': None, 'bias_constraint': None, 'activity_regularizer': None, 'activation': 'relu', 'bias_initializer': {'config': {}, 'class_name': 'Zeros'}, 'units': 512, 'trainable': True, 'kernel_regularizer': None} \n",
      "\n",
      "Réteg neve:  dense_3 , tanítható:  True\n",
      "{'name': 'dense_3', 'use_bias': True, 'bias_regularizer': None, 'kernel_initializer': {'config': {'mode': 'fan_avg', 'distribution': 'uniform', 'seed': None, 'scale': 1.0}, 'class_name': 'VarianceScaling'}, 'kernel_constraint': None, 'bias_constraint': None, 'activity_regularizer': None, 'activation': 'softmax', 'bias_initializer': {'config': {}, 'class_name': 'Zeros'}, 'units': 10, 'trainable': True, 'kernel_regularizer': None} \n",
      "\n"
     ]
    }
   ],
   "source": [
    "print('Rétegek:\\n')\n",
    "for layer in model.layers:\n",
    "    print(\"Réteg neve: \", layer.name, ', tanítható: ', layer.trainable)\n",
    "    print(layer.get_config(),'\\n')"
   ]
  },
  {
   "cell_type": "code",
   "execution_count": 33,
   "metadata": {},
   "outputs": [
    {
     "name": "stdout",
     "output_type": "stream",
     "text": [
      "Kimenet:  Tensor(\"dense_3/Softmax:0\", shape=(?, 10), dtype=float32)\n"
     ]
    }
   ],
   "source": [
    "print('Kimenet: ', model.output)"
   ]
  },
  {
   "cell_type": "markdown",
   "metadata": {},
   "source": [
    "# Predikció és tévesztési mátrix"
   ]
  },
  {
   "cell_type": "code",
   "execution_count": 22,
   "metadata": {
    "collapsed": true
   },
   "outputs": [],
   "source": [
    "preds=model.predict(X_test)"
   ]
  },
  {
   "cell_type": "code",
   "execution_count": 23,
   "metadata": {},
   "outputs": [
    {
     "name": "stdout",
     "output_type": "stream",
     "text": [
      "(10000, 10)\n"
     ]
    }
   ],
   "source": [
    "print(preds.shape)"
   ]
  },
  {
   "cell_type": "code",
   "execution_count": 24,
   "metadata": {},
   "outputs": [],
   "source": [
    "from sklearn.metrics import confusion_matrix\n",
    "conf=confusion_matrix(y_test,np.argmax(preds,axis=1))"
   ]
  },
  {
   "cell_type": "code",
   "execution_count": 25,
   "metadata": {},
   "outputs": [
    {
     "data": {
      "text/plain": [
       "<matplotlib.axes._subplots.AxesSubplot at 0x1b088978>"
      ]
     },
     "execution_count": 25,
     "metadata": {},
     "output_type": "execute_result"
    },
    {
     "data": {
      "image/png": "[encoded data removed]",
      "text/plain": [
       "<Figure size 600x400 with 2 Axes>"
      ]
     },
     "metadata": {},
     "output_type": "display_data"
    }
   ],
   "source": [
    "import seaborn as sns; sns.set()\n",
    "sns.heatmap(conf)"
   ]
  }
 ],
 "metadata": {
  "anaconda-cloud": {},
  "kernelspec": {
   "display_name": "Python 3",
   "language": "python",
   "name": "python3"
  },
  "language_info": {
   "codemirror_mode": {
    "name": "ipython",
    "version": 3
   },
   "file_extension": ".py",
   "mimetype": "text/x-python",
   "name": "python",
   "nbconvert_exporter": "python",
   "pygments_lexer": "ipython3",
   "version": "3.6.6"
  }
 },
 "nbformat": 4,
 "nbformat_minor": 1
}
