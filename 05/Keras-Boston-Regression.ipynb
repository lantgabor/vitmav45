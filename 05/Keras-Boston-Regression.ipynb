{
 "cells": [
  {
   "cell_type": "markdown",
   "metadata": {},
   "source": [
    "# Copyright\n",
    "\n",
    "<PRE>\n",
    "Jelen Jupyter notebook a Budapesti Műszaki és Gazdaságtudományi Egyetemen tartott \"Deep Learning a gyakorlatban Python és LUA alapon\" tantárgy segédanyagaként készült. \n",
    "A tantárgy honlapja: http://smartlab.tmit.bme.hu/oktatas-deep-learning\n",
    "Deep Learning kutatás: http://smartlab.tmit.bme.hu/deep-learning\n",
    "\n",
    "A notebook bármely részének újra felhasználása, publikálása csak a szerzők írásos beleegyezése esetén megegengedett.\n",
    "\n",
    "2019 (c) Gyires-Tóth Bálint (toth.b kukac tmit pont bme pont hu)\n",
    "</PRE>"
   ]
  },
  {
   "cell_type": "markdown",
   "metadata": {},
   "source": [
    "# Regresszió mély tanulással"
   ]
  },
  {
   "cell_type": "markdown",
   "metadata": {},
   "source": [
    "Ebben a notebookban a gépi tanulás egyik \"Hello world\"-jét fogjuk megismeri. Ehhez a Boston Housing Prices adatbázist fogjuk felhasználni. \n",
    "\n",
    "Az adatbázis formátumának leírását itt találjuk: https://archive.ics.uci.edu/ml/machine-learning-databases/housing/housing.names\n",
    "Magát az adatbázist pedig innen tölthetjük le: https://archive.ics.uci.edu/ml/machine-learning-databases/housing/housing.data\n",
    "\n",
    "Töltsük le az utóbbi CSV fájlt és mentsük a jelenlegi Python forrás / notebook mellé.\n",
    "\n",
    "Következő lépésként importáljuk a szükséges modulokat és állítsunk be egy random seed-et:"
   ]
  },
  {
   "cell_type": "code",
   "execution_count": 1,
   "metadata": {},
   "outputs": [
    {
     "name": "stderr",
     "output_type": "stream",
     "text": [
      "Using TensorFlow backend.\n"
     ]
    }
   ],
   "source": [
    "import numpy as np\n",
    "from keras.models import Sequential\n",
    "from keras.layers import Dense, Dropout, Activation\n",
    "from keras.callbacks import EarlyStopping\n",
    "from keras.callbacks import ModelCheckpoint\n",
    "from keras.models import load_model\n",
    "import copy\n",
    "import pandas as pd\n",
    "from keras.optimizers import SGD\n",
    "from sklearn.preprocessing import StandardScaler\n",
    "\n",
    "\n",
    "np.random.seed(123)"
   ]
  },
  {
   "cell_type": "markdown",
   "metadata": {},
   "source": [
    "Ezután töltsük le és töltsük be az adatokat, válasszuk szét a train-validation-test adathalmazokat és standardizáljuk a bemeneteket:"
   ]
  },
  {
   "cell_type": "code",
   "execution_count": 2,
   "metadata": {},
   "outputs": [
    {
     "data": {
      "text/plain": [
       "('housing.data', <http.client.HTTPMessage at 0xe1bcfd0>)"
      ]
     },
     "execution_count": 2,
     "metadata": {},
     "output_type": "execute_result"
    }
   ],
   "source": [
    "import urllib.request\n",
    "urllib.request.urlretrieve (\"https://archive.ics.uci.edu/ml/machine-learning-databases/housing/housing.data\", \"housing.data\")"
   ]
  },
  {
   "cell_type": "code",
   "execution_count": 3,
   "metadata": {},
   "outputs": [],
   "source": [
    "df = pd.read_csv(\"housing.data\", delim_whitespace=True, header=None)\n",
    "dataset = df.values\n",
    "test_split = 0.1\n",
    "valid_split = 0.1\n",
    "\n",
    "X = dataset[:,0:13]\n",
    "Y = dataset[:,13]\n",
    "\n",
    "v_index = int(X.shape[0]*(1-valid_split-test_split))\n",
    "t_index = int(X.shape[0]*(1-test_split))\n",
    "\n",
    "X_test = X[t_index:]\n",
    "Y_test = Y[t_index:]\n",
    "X_valid = X[v_index:t_index]\n",
    "Y_valid = Y[v_index:t_index]\n",
    "X = X[:v_index]\n",
    "Y = Y[:v_index]\n",
    "\n",
    "scaler = StandardScaler().fit(X)\n",
    "X = scaler.transform(X)\n",
    "X_valid = scaler.transform(X_valid)\n",
    "X_test = scaler.transform(X_test)\n"
   ]
  },
  {
   "cell_type": "markdown",
   "metadata": {},
   "source": [
    "Ezt követően adjuk meg a callback függvényeket:"
   ]
  },
  {
   "cell_type": "code",
   "execution_count": 4,
   "metadata": {},
   "outputs": [],
   "source": [
    "patience=40\n",
    "early_stopping=EarlyStopping(patience=patience, verbose=1)\n",
    "checkpointer=ModelCheckpoint(filepath='weights.hdf5', save_best_only=True, verbose=1)"
   ]
  },
  {
   "cell_type": "markdown",
   "metadata": {},
   "source": [
    "És hozzuk létre a hálót és tanítsuk be:"
   ]
  },
  {
   "cell_type": "code",
   "execution_count": 5,
   "metadata": {},
   "outputs": [
    {
     "name": "stderr",
     "output_type": "stream",
     "text": [
      "C:\\Users\\Balint\\Anaconda3\\lib\\site-packages\\ipykernel_launcher.py:2: UserWarning: Update your `Dense` call to the Keras 2 API: `Dense(input_dim=13, units=60)`\n",
      "  \n",
      "C:\\Users\\Balint\\Anaconda3\\lib\\site-packages\\ipykernel_launcher.py:5: UserWarning: Update your `Dense` call to the Keras 2 API: `Dense(activation=\"linear\", units=1)`\n",
      "  \"\"\"\n"
     ]
    },
    {
     "name": "stdout",
     "output_type": "stream",
     "text": [
      "WARNING:tensorflow:Variable *= will be deprecated. Use variable.assign_mul if you want assignment to the variable value or 'x = x * y' if you want a new python Tensor object.\n",
      "Train on 404 samples, validate on 51 samples\n",
      "Epoch 1/10000\n",
      " - 0s - loss: 171.5212 - val_loss: 34.6719\n",
      "\n",
      "Epoch 00001: val_loss improved from inf to 34.67189, saving model to weights.hdf5\n",
      "Epoch 2/10000\n",
      " - 0s - loss: 42.4264 - val_loss: 22.1017\n",
      "\n",
      "Epoch 00002: val_loss improved from 34.67189 to 22.10172, saving model to weights.hdf5\n",
      "Epoch 3/10000\n",
      " - 0s - loss: 36.7255 - val_loss: 28.9371\n",
      "\n",
      "Epoch 00003: val_loss did not improve from 22.10172\n",
      "Epoch 4/10000\n",
      " - 0s - loss: 40.1212 - val_loss: 20.5489\n",
      "\n",
      "Epoch 00004: val_loss improved from 22.10172 to 20.54887, saving model to weights.hdf5\n",
      "Epoch 5/10000\n",
      " - 0s - loss: 32.0560 - val_loss: 29.9781\n",
      "\n",
      "Epoch 00005: val_loss did not improve from 20.54887\n",
      "Epoch 6/10000\n",
      " - 0s - loss: 32.4057 - val_loss: 30.0586\n",
      "\n",
      "Epoch 00006: val_loss did not improve from 20.54887\n",
      "Epoch 7/10000\n",
      " - 0s - loss: 30.4954 - val_loss: 25.0362\n",
      "\n",
      "Epoch 00007: val_loss did not improve from 20.54887\n",
      "Epoch 8/10000\n",
      " - 0s - loss: 31.4053 - val_loss: 38.0468\n",
      "\n",
      "Epoch 00008: val_loss did not improve from 20.54887\n",
      "Epoch 9/10000\n",
      " - 0s - loss: 31.4200 - val_loss: 21.3931\n",
      "\n",
      "Epoch 00009: val_loss did not improve from 20.54887\n",
      "Epoch 10/10000\n",
      " - 0s - loss: 30.0104 - val_loss: 37.4674\n",
      "\n",
      "Epoch 00010: val_loss did not improve from 20.54887\n",
      "Epoch 11/10000\n",
      " - 0s - loss: 31.9441 - val_loss: 38.3917\n",
      "\n",
      "Epoch 00011: val_loss did not improve from 20.54887\n",
      "Epoch 12/10000\n",
      " - 0s - loss: 28.0982 - val_loss: 35.9356\n",
      "\n",
      "Epoch 00012: val_loss did not improve from 20.54887\n",
      "Epoch 13/10000\n",
      " - 0s - loss: 29.4973 - val_loss: 35.7055\n",
      "\n",
      "Epoch 00013: val_loss did not improve from 20.54887\n",
      "Epoch 14/10000\n",
      " - 0s - loss: 29.8328 - val_loss: 31.1715\n",
      "\n",
      "Epoch 00014: val_loss did not improve from 20.54887\n",
      "Epoch 15/10000\n",
      " - 0s - loss: 28.0121 - val_loss: 38.8313\n",
      "\n",
      "Epoch 00015: val_loss did not improve from 20.54887\n",
      "Epoch 16/10000\n",
      " - 0s - loss: 27.6835 - val_loss: 37.3239\n",
      "\n",
      "Epoch 00016: val_loss did not improve from 20.54887\n",
      "Epoch 17/10000\n",
      " - 0s - loss: 25.2645 - val_loss: 35.6178\n",
      "\n",
      "Epoch 00017: val_loss did not improve from 20.54887\n",
      "Epoch 18/10000\n",
      " - 0s - loss: 29.4541 - val_loss: 33.6295\n",
      "\n",
      "Epoch 00018: val_loss did not improve from 20.54887\n",
      "Epoch 19/10000\n",
      " - 0s - loss: 26.9589 - val_loss: 39.3444\n",
      "\n",
      "Epoch 00019: val_loss did not improve from 20.54887\n",
      "Epoch 20/10000\n",
      " - 0s - loss: 24.2609 - val_loss: 43.1399\n",
      "\n",
      "Epoch 00020: val_loss did not improve from 20.54887\n",
      "Epoch 21/10000\n",
      " - 0s - loss: 24.1025 - val_loss: 37.0691\n",
      "\n",
      "Epoch 00021: val_loss did not improve from 20.54887\n",
      "Epoch 22/10000\n",
      " - 0s - loss: 23.1070 - val_loss: 41.2106\n",
      "\n",
      "Epoch 00022: val_loss did not improve from 20.54887\n",
      "Epoch 23/10000\n",
      " - 0s - loss: 26.9869 - val_loss: 44.1336\n",
      "\n",
      "Epoch 00023: val_loss did not improve from 20.54887\n",
      "Epoch 24/10000\n",
      " - 0s - loss: 24.0509 - val_loss: 39.6075\n",
      "\n",
      "Epoch 00024: val_loss did not improve from 20.54887\n",
      "Epoch 25/10000\n",
      " - 0s - loss: 25.4001 - val_loss: 37.9270\n",
      "\n",
      "Epoch 00025: val_loss did not improve from 20.54887\n",
      "Epoch 26/10000\n",
      " - 0s - loss: 25.4434 - val_loss: 42.8198\n",
      "\n",
      "Epoch 00026: val_loss did not improve from 20.54887\n",
      "Epoch 27/10000\n",
      " - 0s - loss: 23.2044 - val_loss: 48.5071\n",
      "\n",
      "Epoch 00027: val_loss did not improve from 20.54887\n",
      "Epoch 28/10000\n",
      " - 0s - loss: 24.9668 - val_loss: 44.8027\n",
      "\n",
      "Epoch 00028: val_loss did not improve from 20.54887\n",
      "Epoch 29/10000\n",
      " - 0s - loss: 22.6636 - val_loss: 48.2202\n",
      "\n",
      "Epoch 00029: val_loss did not improve from 20.54887\n",
      "Epoch 30/10000\n",
      " - 0s - loss: 23.2914 - val_loss: 45.8640\n",
      "\n",
      "Epoch 00030: val_loss did not improve from 20.54887\n",
      "Epoch 31/10000\n",
      " - 0s - loss: 24.5118 - val_loss: 48.1251\n",
      "\n",
      "Epoch 00031: val_loss did not improve from 20.54887\n",
      "Epoch 32/10000\n",
      " - 0s - loss: 20.5060 - val_loss: 51.4476\n",
      "\n",
      "Epoch 00032: val_loss did not improve from 20.54887\n",
      "Epoch 33/10000\n",
      " - 0s - loss: 21.4580 - val_loss: 46.0746\n",
      "\n",
      "Epoch 00033: val_loss did not improve from 20.54887\n",
      "Epoch 34/10000\n",
      " - 0s - loss: 23.3421 - val_loss: 44.6012\n",
      "\n",
      "Epoch 00034: val_loss did not improve from 20.54887\n",
      "Epoch 35/10000\n",
      " - 0s - loss: 21.6344 - val_loss: 52.6526\n",
      "\n",
      "Epoch 00035: val_loss did not improve from 20.54887\n",
      "Epoch 36/10000\n",
      " - 0s - loss: 22.4461 - val_loss: 62.6492\n",
      "\n",
      "Epoch 00036: val_loss did not improve from 20.54887\n",
      "Epoch 37/10000\n",
      " - 0s - loss: 23.5417 - val_loss: 52.4839\n",
      "\n",
      "Epoch 00037: val_loss did not improve from 20.54887\n",
      "Epoch 38/10000\n",
      " - 0s - loss: 20.8495 - val_loss: 60.1010\n",
      "\n",
      "Epoch 00038: val_loss did not improve from 20.54887\n",
      "Epoch 39/10000\n",
      " - 0s - loss: 20.7495 - val_loss: 54.7361\n",
      "\n",
      "Epoch 00039: val_loss did not improve from 20.54887\n",
      "Epoch 40/10000\n",
      " - 0s - loss: 19.6984 - val_loss: 51.4631\n",
      "\n",
      "Epoch 00040: val_loss did not improve from 20.54887\n",
      "Epoch 41/10000\n",
      " - 0s - loss: 20.0645 - val_loss: 58.6825\n",
      "\n",
      "Epoch 00041: val_loss did not improve from 20.54887\n",
      "Epoch 42/10000\n",
      " - 0s - loss: 20.8219 - val_loss: 43.8469\n",
      "\n",
      "Epoch 00042: val_loss did not improve from 20.54887\n",
      "Epoch 43/10000\n",
      " - 0s - loss: 22.3627 - val_loss: 44.6102\n",
      "\n",
      "Epoch 00043: val_loss did not improve from 20.54887\n",
      "Epoch 44/10000\n",
      " - 0s - loss: 21.1563 - val_loss: 52.6618\n",
      "\n",
      "Epoch 00044: val_loss did not improve from 20.54887\n",
      "Epoch 00044: early stopping\n"
     ]
    }
   ],
   "source": [
    "model = Sequential()\n",
    "model.add(Dense(output_dim=60, input_dim=X.shape[1]))\n",
    "model.add(Activation('sigmoid'))\n",
    "model.add(Dropout(0.5))\n",
    "model.add(Dense(output_dim=1, activation='linear'))\n",
    "\n",
    "sgd = SGD(lr=1e-3, decay=1e-6, momentum=0.9, nesterov=True)\n",
    "model.compile(loss='mse', optimizer=sgd)\n",
    "history=model.fit(X,Y,epochs=10000, \n",
    "                  batch_size=16,\n",
    "                  verbose=2,\n",
    "                  validation_data=(X_valid, Y_valid),\n",
    "                  callbacks=[checkpointer, early_stopping])"
   ]
  },
  {
   "cell_type": "markdown",
   "metadata": {
    "collapsed": true
   },
   "source": [
    "A tanítás végeztével visszatöltjük a legjobb modellt, és kiértékeljük ennek teljesítményét a teszt adatokon. Mit jelenthet ez az érték?"
   ]
  },
  {
   "cell_type": "code",
   "execution_count": 6,
   "metadata": {},
   "outputs": [
    {
     "name": "stdout",
     "output_type": "stream",
     "text": [
      "\n",
      "Teszt hiba: 12.169046\n"
     ]
    }
   ],
   "source": [
    "model = load_model('weights.hdf5')\n",
    "\n",
    "from sklearn.metrics import mean_squared_error\n",
    "model = load_model('weights.hdf5')\n",
    "preds = model.predict(X_test)\n",
    "test_err = mean_squared_error(Y_test,preds)\n",
    "print(\"\\nTeszt hiba: %f\" % (test_err))"
   ]
  },
  {
   "cell_type": "markdown",
   "metadata": {},
   "source": [
    "Tehát ez az jelenti, hogy sqrt(12.17)=3.488-at hibáz átlagosan a modell a teszt adatokon. És annyit jelent, hogy átlagosan 3488$-t téved a modellünk."
   ]
  },
  {
   "cell_type": "markdown",
   "metadata": {},
   "source": [
    "Az eredményeket vizsgáljuk meg grafikusan is:"
   ]
  },
  {
   "cell_type": "code",
   "execution_count": 7,
   "metadata": {},
   "outputs": [
    {
     "name": "stderr",
     "output_type": "stream",
     "text": [
      "C:\\Users\\Balint\\Anaconda3\\lib\\site-packages\\scipy\\stats\\stats.py:1713: FutureWarning: Using a non-tuple sequence for multidimensional indexing is deprecated; use `arr[tuple(seq)]` instead of `arr[seq]`. In the future this will be interpreted as an array index, `arr[np.array(seq)]`, which will result either in an error or a different result.\n",
      "  return np.add.reduce(sorted[indexer] * weights, axis=axis) / sumval\n"
     ]
    },
    {
     "data": {
      "image/png": "[encoded data removed]",
      "text/plain": [
       "<Figure size 720x720 with 1 Axes>"
      ]
     },
     "metadata": {},
     "output_type": "display_data"
    }
   ],
   "source": [
    "%matplotlib inline\n",
    "import seaborn as sns\n",
    "import matplotlib.pyplot as plt\n",
    "plt.figure(figsize=(10,10))\n",
    "sns.regplot(x=Y_test, y=preds.reshape(-1)).set(xlim=(10,30),ylim=(10,30));"
   ]
  },
  {
   "cell_type": "markdown",
   "metadata": {},
   "source": [
    "Mit jelent ez az ábra? Mit jelentene egy vízszintes egyenes? És egy függőleges egyenes?"
   ]
  }
 ],
 "metadata": {
  "kernelspec": {
   "display_name": "Python 3",
   "language": "python",
   "name": "python3"
  },
  "language_info": {
   "codemirror_mode": {
    "name": "ipython",
    "version": 3
   },
   "file_extension": ".py",
   "mimetype": "text/x-python",
   "name": "python",
   "nbconvert_exporter": "python",
   "pygments_lexer": "ipython3",
   "version": "3.6.6"
  }
 },
 "nbformat": 4,
 "nbformat_minor": 2
}
