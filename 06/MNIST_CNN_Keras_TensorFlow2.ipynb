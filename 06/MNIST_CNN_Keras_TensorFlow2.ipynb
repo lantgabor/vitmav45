{
  "nbformat": 4,
  "nbformat_minor": 0,
  "metadata": {
    "accelerator": "GPU",
    "colab": {
      "name": "MNIST-CNN-Keras-TensorFlow2.ipynb",
      "provenance": [],
      "collapsed_sections": []
    },
    "kernelspec": {
      "name": "python3",
      "display_name": "Python 3"
    },
    "language_info": {
      "codemirror_mode": {
        "name": "ipython",
        "version": 3
      },
      "file_extension": ".py",
      "mimetype": "text/x-python",
      "name": "python",
      "nbconvert_exporter": "python",
      "pygments_lexer": "ipython3",
      "version": "3.6.6"
    }
  },
  "cells": [
    {
      "cell_type": "markdown",
      "metadata": {
        "colab_type": "text",
        "id": "OVLEIMxAc8sO"
      },
      "source": [
        "# Copyright\n",
        "\n",
        "<PRE>\n",
        "Jelen Jupyter notebook a Budapesti Műszaki és Gazdaságtudományi Egyetemen tartott \"Deep Learning a gyakorlatban Python és LUA alapon\" tantárgy segédanyagaként készült. \n",
        "A tantárgy honlapja: http://smartlab.tmit.bme.hu/oktatas-deep-learning\n",
        "Deep Learning kutatás: http://smartlab.tmit.bme.hu/deep-learning\n",
        "\n",
        "A notebook bármely részének újra felhasználása, publikálása csak a szerzők írásos beleegyezése esetén megegengedett.\n",
        "\n",
        "2019 (c) Gyires-Tóth Bálint (toth.b kukac tmit pont bme pont hu)\n",
        "</PRE>"
      ]
    },
    {
      "cell_type": "markdown",
      "metadata": {
        "colab_type": "text",
        "id": "eIpucgcbc8sQ"
      },
      "source": [
        "# Konvolúciós neurális hálózatok - alapok\n",
        "Jelen notebookban a konvolúciós hálók használatának alapjaival ismerkedünk meg. Az itteni példa publikusan elérhető kép adatbázisok két dimenziós konvolúciós hálózattal történő feldolgozásáról fog szólni. Fontos megjegyezni, hogy ahogy a konvolúciós hálók felhasználása ma már sokkal bővebb, mint pusztán képfelismerés, szinte bármilyen tématerületen sikeresen alkalmazzák (pl. beszéd, hang, idősorok, játék botok, stb.).\n",
        "\n",
        "Az első példánkban Yann LeCunn professzor MNIST kézzel írott szám adatbázisát fogjuk betanítani a hálóval. Az adatbázis elérhető publikusan: http://yann.lecun.com/exdb/mnist/\n",
        "Illetve szinte mindegyik nagyobb deep learning frameworkben be lehet tölteni parancssorból. A mostani példában előbb a Keras-t fogjuk használni, majd a Tensorflow 2.0 Keras interfészét. Az adatokat is a Keras-on keresztül töltjük be:"
      ]
    },
    {
      "cell_type": "code",
      "metadata": {
        "id": "cJq9IAKzRCsQ",
        "colab_type": "code",
        "colab": {}
      },
      "source": [
        "from keras.datasets import mnist\n",
        "from keras.utils import np_utils\n",
        "\n",
        "(x_train, y_train), (x_test, y_test) = mnist.load_data()"
      ],
      "execution_count": 0,
      "outputs": []
    },
    {
      "cell_type": "code",
      "metadata": {
        "id": "nnD2FvUgRHdJ",
        "colab_type": "code",
        "colab": {}
      },
      "source": [
        "x_train = x_train / 255\n",
        "x_test = x_test / 255\n",
        "\n",
        "x_train = x_train.reshape(-1,28,28,1)\n",
        "x_test = x_test.reshape(-1,28,28,1)\n",
        "x_train = x_train.astype(\"float32\")\n",
        "x_test = x_test.astype(\"float32\")\n",
        "\n",
        "y_train = np_utils.to_categorical(y_train, 10)\n",
        "y_test = np_utils.to_categorical(y_test, 10)\n",
        "\n",
        "batch_size=128"
      ],
      "execution_count": 0,
      "outputs": []
    },
    {
      "cell_type": "markdown",
      "metadata": {
        "id": "d4PlUyDlRODm",
        "colab_type": "text"
      },
      "source": [
        "A tanítás előtt kapcsoljuk be a GPU-t Colab alatt (Runtime/Change runtime type). Ezután létrehozunk egy egyszerű modellt softmax aktivációs függvénnyel és betanítjuk batch_size batch mérettel:"
      ]
    },
    {
      "cell_type": "code",
      "metadata": {
        "id": "cXIpmWuoRNOf",
        "colab_type": "code",
        "colab": {
          "base_uri": "https://localhost:8080/",
          "height": 457
        },
        "outputId": "3cf6e0bb-d515-4f92-a238-e6a0a97546e7"
      },
      "source": [
        "from keras.models import Sequential\n",
        "from keras.layers import Dense, Conv2D, MaxPooling2D, Dropout, Flatten\n",
        "from keras.optimizers import SGD\n",
        "\n",
        "model = Sequential() \n",
        "model.add(Conv2D(32, kernel_size=(5, 5), activation='relu', input_shape=(28,28,1,))) \n",
        "model.add(Conv2D(64, (5, 5), activation='relu')) \n",
        "model.add(MaxPooling2D(pool_size=(2, 2))) \n",
        "model.add(Dropout(0.25))\n",
        "model.add(Flatten())\n",
        "model.add(Dense(128, activation='relu'))\n",
        "model.add(Dropout(0.5))\n",
        "model.add(Dense(10, activation='softmax')) \n",
        "\n",
        "print(model.summary())\n"
      ],
      "execution_count": 16,
      "outputs": [
        {
          "output_type": "stream",
          "text": [
            "Model: \"sequential_5\"\n",
            "_________________________________________________________________\n",
            "Layer (type)                 Output Shape              Param #   \n",
            "=================================================================\n",
            "conv2d_9 (Conv2D)            (None, 24, 24, 32)        832       \n",
            "_________________________________________________________________\n",
            "conv2d_10 (Conv2D)           (None, 20, 20, 64)        51264     \n",
            "_________________________________________________________________\n",
            "max_pooling2d_5 (MaxPooling2 (None, 10, 10, 64)        0         \n",
            "_________________________________________________________________\n",
            "dropout_9 (Dropout)          (None, 10, 10, 64)        0         \n",
            "_________________________________________________________________\n",
            "flatten_5 (Flatten)          (None, 6400)              0         \n",
            "_________________________________________________________________\n",
            "dense_9 (Dense)              (None, 128)               819328    \n",
            "_________________________________________________________________\n",
            "dropout_10 (Dropout)         (None, 128)               0         \n",
            "_________________________________________________________________\n",
            "dense_10 (Dense)             (None, 10)                1290      \n",
            "=================================================================\n",
            "Total params: 872,714\n",
            "Trainable params: 872,714\n",
            "Non-trainable params: 0\n",
            "_________________________________________________________________\n",
            "None\n"
          ],
          "name": "stdout"
        }
      ]
    },
    {
      "cell_type": "code",
      "metadata": {
        "id": "GcDFpALVShsp",
        "colab_type": "code",
        "colab": {}
      },
      "source": [
        "# Early stopping, amellyel figyeljük a validációs hibát (alap beállítás)\n",
        "from keras.callbacks import EarlyStopping\n",
        "patience=10\n",
        "early_stopping=EarlyStopping(patience=patience, verbose=1)\n",
        "# Szintén a validációs hibát figyeljük, és elmentjük a legjobb modellt\n",
        "from keras.callbacks import ModelCheckpoint\n",
        "checkpointer=ModelCheckpoint(filepath='model.hdf5', save_best_only=True, verbose=1)"
      ],
      "execution_count": 0,
      "outputs": []
    },
    {
      "cell_type": "code",
      "metadata": {
        "id": "R-ueQiziSJve",
        "colab_type": "code",
        "colab": {
          "base_uri": "https://localhost:8080/",
          "height": 1000
        },
        "outputId": "3fedcbe8-bbee-49e0-fc3e-4cf38fc29a3b"
      },
      "source": [
        "model.compile(loss='categorical_crossentropy', optimizer='adam', metrics=['accuracy'])\n",
        "\n",
        "network_history = model.fit(x_train, y_train, batch_size=128, epochs=30, verbose=1, validation_split=0.2, callbacks=[early_stopping, checkpointer])"
      ],
      "execution_count": 21,
      "outputs": [
        {
          "output_type": "stream",
          "text": [
            "Train on 48000 samples, validate on 12000 samples\n",
            "Epoch 1/30\n",
            "48000/48000 [==============================] - 7s 149us/step - loss: 0.0841 - acc: 0.9752 - val_loss: 0.0447 - val_acc: 0.9881\n",
            "\n",
            "Epoch 00001: val_loss improved from inf to 0.04465, saving model to model.hdf5\n",
            "Epoch 2/30\n",
            "48000/48000 [==============================] - 6s 135us/step - loss: 0.0609 - acc: 0.9817 - val_loss: 0.0349 - val_acc: 0.9897\n",
            "\n",
            "Epoch 00002: val_loss improved from 0.04465 to 0.03494, saving model to model.hdf5\n",
            "Epoch 3/30\n",
            "48000/48000 [==============================] - 6s 135us/step - loss: 0.0463 - acc: 0.9856 - val_loss: 0.0356 - val_acc: 0.9899\n",
            "\n",
            "Epoch 00003: val_loss did not improve from 0.03494\n",
            "Epoch 4/30\n",
            "48000/48000 [==============================] - 6s 135us/step - loss: 0.0403 - acc: 0.9876 - val_loss: 0.0309 - val_acc: 0.9915\n",
            "\n",
            "Epoch 00004: val_loss improved from 0.03494 to 0.03092, saving model to model.hdf5\n",
            "Epoch 5/30\n",
            "48000/48000 [==============================] - 7s 146us/step - loss: 0.0326 - acc: 0.9898 - val_loss: 0.0339 - val_acc: 0.9906\n",
            "\n",
            "Epoch 00005: val_loss did not improve from 0.03092\n",
            "Epoch 6/30\n",
            "48000/48000 [==============================] - 7s 145us/step - loss: 0.0286 - acc: 0.9912 - val_loss: 0.0310 - val_acc: 0.9915\n",
            "\n",
            "Epoch 00006: val_loss did not improve from 0.03092\n",
            "Epoch 7/30\n",
            "48000/48000 [==============================] - 7s 147us/step - loss: 0.0263 - acc: 0.9919 - val_loss: 0.0339 - val_acc: 0.9916\n",
            "\n",
            "Epoch 00007: val_loss did not improve from 0.03092\n",
            "Epoch 8/30\n",
            "48000/48000 [==============================] - 7s 145us/step - loss: 0.0223 - acc: 0.9926 - val_loss: 0.0364 - val_acc: 0.9909\n",
            "\n",
            "Epoch 00008: val_loss did not improve from 0.03092\n",
            "Epoch 9/30\n",
            "48000/48000 [==============================] - 7s 144us/step - loss: 0.0209 - acc: 0.9933 - val_loss: 0.0310 - val_acc: 0.9922\n",
            "\n",
            "Epoch 00009: val_loss did not improve from 0.03092\n",
            "Epoch 10/30\n",
            "48000/48000 [==============================] - 7s 146us/step - loss: 0.0199 - acc: 0.9935 - val_loss: 0.0301 - val_acc: 0.9922\n",
            "\n",
            "Epoch 00010: val_loss improved from 0.03092 to 0.03010, saving model to model.hdf5\n",
            "Epoch 11/30\n",
            "48000/48000 [==============================] - 7s 147us/step - loss: 0.0160 - acc: 0.9948 - val_loss: 0.0302 - val_acc: 0.9929\n",
            "\n",
            "Epoch 00011: val_loss did not improve from 0.03010\n",
            "Epoch 12/30\n",
            "48000/48000 [==============================] - 7s 146us/step - loss: 0.0167 - acc: 0.9944 - val_loss: 0.0359 - val_acc: 0.9924\n",
            "\n",
            "Epoch 00012: val_loss did not improve from 0.03010\n",
            "Epoch 13/30\n",
            "48000/48000 [==============================] - 7s 142us/step - loss: 0.0149 - acc: 0.9952 - val_loss: 0.0348 - val_acc: 0.9928\n",
            "\n",
            "Epoch 00013: val_loss did not improve from 0.03010\n",
            "Epoch 14/30\n",
            "48000/48000 [==============================] - 7s 138us/step - loss: 0.0150 - acc: 0.9947 - val_loss: 0.0329 - val_acc: 0.9933\n",
            "\n",
            "Epoch 00014: val_loss did not improve from 0.03010\n",
            "Epoch 15/30\n",
            "48000/48000 [==============================] - 7s 139us/step - loss: 0.0151 - acc: 0.9949 - val_loss: 0.0317 - val_acc: 0.9929\n",
            "\n",
            "Epoch 00015: val_loss did not improve from 0.03010\n",
            "Epoch 16/30\n",
            "48000/48000 [==============================] - 7s 137us/step - loss: 0.0128 - acc: 0.9958 - val_loss: 0.0341 - val_acc: 0.9933\n",
            "\n",
            "Epoch 00016: val_loss did not improve from 0.03010\n",
            "Epoch 17/30\n",
            "48000/48000 [==============================] - 7s 137us/step - loss: 0.0113 - acc: 0.9960 - val_loss: 0.0337 - val_acc: 0.9924\n",
            "\n",
            "Epoch 00017: val_loss did not improve from 0.03010\n",
            "Epoch 18/30\n",
            "48000/48000 [==============================] - 7s 138us/step - loss: 0.0128 - acc: 0.9957 - val_loss: 0.0370 - val_acc: 0.9927\n",
            "\n",
            "Epoch 00018: val_loss did not improve from 0.03010\n",
            "Epoch 19/30\n",
            "48000/48000 [==============================] - 6s 134us/step - loss: 0.0111 - acc: 0.9961 - val_loss: 0.0380 - val_acc: 0.9925\n",
            "\n",
            "Epoch 00019: val_loss did not improve from 0.03010\n",
            "Epoch 20/30\n",
            "48000/48000 [==============================] - 6s 135us/step - loss: 0.0121 - acc: 0.9959 - val_loss: 0.0339 - val_acc: 0.9934\n",
            "\n",
            "Epoch 00020: val_loss did not improve from 0.03010\n",
            "Epoch 00020: early stopping\n"
          ],
          "name": "stdout"
        }
      ]
    },
    {
      "cell_type": "markdown",
      "metadata": {
        "id": "Mg04dw-WTmON",
        "colab_type": "text"
      },
      "source": [
        "Ezután visszatöltjük a legjobb modellt és teszteljük:"
      ]
    },
    {
      "cell_type": "code",
      "metadata": {
        "id": "bDtd64JDTpKF",
        "colab_type": "code",
        "colab": {
          "base_uri": "https://localhost:8080/",
          "height": 52
        },
        "outputId": "12c96fd0-098e-44e4-903f-02e20672ef72"
      },
      "source": [
        "from keras.models import load_model\n",
        "model = load_model(\"model.hdf5\")\n",
        "test_err = model.evaluate(x_test,y_test)\n",
        "print(\"Teszt hiba:\", test_err[0], \"Teszt pontosság:\", test_err[1])"
      ],
      "execution_count": 23,
      "outputs": [
        {
          "output_type": "stream",
          "text": [
            "10000/10000 [==============================] - 1s 124us/step\n",
            "Teszt hiba: 0.02171484462986873 Teszt pontosság: 0.9922\n"
          ],
          "name": "stdout"
        }
      ]
    },
    {
      "cell_type": "markdown",
      "metadata": {
        "id": "3uUtVZTbS7gE",
        "colab_type": "text"
      },
      "source": [
        "## Metrikák, konfúziós (tévesztési) mátrix\n",
        "Nézzük először, hogy hogyan tudjuk kiszámolni az osztályozáshoz tartozó legfontosabb metrikákat és hogyan tudjuk megjeleníteni a konfúziós mátrixot:"
      ]
    },
    {
      "cell_type": "code",
      "metadata": {
        "id": "a147JluHTAJF",
        "colab_type": "code",
        "colab": {
          "base_uri": "https://localhost:8080/",
          "height": 298
        },
        "outputId": "620f1242-4e6f-45da-d5cb-6993718ef075"
      },
      "source": [
        "import numpy as np\n",
        "from sklearn.metrics import accuracy_score, precision_score, recall_score, f1_score, roc_curve, confusion_matrix\n",
        "# először is nyerjük ki a predikciókat (valószínüség és hozzá tartozó pontosságot)\n",
        "y_pred = model.predict(x_test)\n",
        "y_pred = np.argmax(y_pred,1)\n",
        "y_true = np.argmax(y_test,1)\n",
        "\n",
        "print(\"test accuracy: %g\" %(accuracy_score(y_true, y_pred)))\n",
        "print(\"Precision\", precision_score(y_true, y_pred, average=\"macro\"))\n",
        "print(\"Recall\", recall_score(y_true, y_pred, average=\"macro\"))\n",
        "print(\"f1_score\", f1_score(y_true, y_pred, average=\"macro\"))\n",
        "print(\"\\nKonfúziós mátrix: \")\n",
        "conf=confusion_matrix(y_true, y_pred)\n",
        "print(conf)"
      ],
      "execution_count": 24,
      "outputs": [
        {
          "output_type": "stream",
          "text": [
            "test accuracy: 0.9922\n",
            "Precision 0.9921779567265124\n",
            "Recall 0.9921531577685421\n",
            "f1_score 0.9921563449227545\n",
            "\n",
            "Konfúziós mátrix: \n",
            "[[ 975    1    1    0    0    0    1    1    1    0]\n",
            " [   0 1131    1    3    0    0    0    0    0    0]\n",
            " [   1    1 1026    0    0    0    0    4    0    0]\n",
            " [   0    0    4 1003    0    3    0    0    0    0]\n",
            " [   0    0    0    0  977    0    0    0    1    4]\n",
            " [   0    0    0    4    0  886    1    1    0    0]\n",
            " [   5    2    1    0    2    3  945    0    0    0]\n",
            " [   0    3    4    1    0    0    0 1018    1    1]\n",
            " [   1    0    0    1    0    0    0    1  969    2]\n",
            " [   0    2    0    0    5    8    0    1    1  992]]\n"
          ],
          "name": "stdout"
        }
      ]
    },
    {
      "cell_type": "markdown",
      "metadata": {
        "id": "LF3kLYcoTab6",
        "colab_type": "text"
      },
      "source": [
        "A tévesztési mátrixot vizuálisan is érdemes vizsgálni:"
      ]
    },
    {
      "cell_type": "code",
      "metadata": {
        "id": "4Go_Q0_oTUUI",
        "colab_type": "code",
        "colab": {
          "base_uri": "https://localhost:8080/",
          "height": 286
        },
        "outputId": "77f5c5c5-c582-4b55-9f6b-d9d96f7b0518"
      },
      "source": [
        "import seaborn as sns\n",
        "sns.heatmap(conf, vmax=20) # a vmax paraméterrel állítjuk be, hogy milyen értéktartományban jelenítse meg az adatokat"
      ],
      "execution_count": 27,
      "outputs": [
        {
          "output_type": "execute_result",
          "data": {
            "text/plain": [
              "<matplotlib.axes._subplots.AxesSubplot at 0x7fbcd219f860>"
            ]
          },
          "metadata": {
            "tags": []
          },
          "execution_count": 27
        },
        {
          "output_type": "display_data",
          "data": {
            "image/png": "[encoded data removed]",
            "text/plain": [
              "<Figure size 432x288 with 2 Axes>"
            ]
          },
          "metadata": {
            "tags": []
          }
        }
      ]
    },
    {
      "cell_type": "markdown",
      "metadata": {
        "id": "Nmd2kil7TLXF",
        "colab_type": "text"
      },
      "source": [
        "Fontos felhívni a figyelmet a precision, recall és f1 esetén az \"avarage\" paraméterre. Mivel ezek a metrikák alapvetően két osztályt vesznek figyelembe, ezért több lehetőségünk van több osztálynál az értékek figyelembe vételére. Ennek talán legegyszerűbb módja a \"macro\", amikor minden osztálynál kiszámolt érték átlagát veszi. Ha \"micro\"-ra állítjuk, akkor összegzi az összes osztály esetén a TP, TN, FN, FP értékeket és ezekkel számol. \"weighted\" esetben pedig azt is figyelembe veszi, hogy melyik osztályban mennyi minta van, és amelyikbe sok, azt nagyobb súllyal veszi figyelembe. "
      ]
    },
    {
      "cell_type": "markdown",
      "metadata": {
        "id": "xWMUTmy9NXHj",
        "colab_type": "text"
      },
      "source": [
        "## TensorFlow 2.0"
      ]
    },
    {
      "cell_type": "markdown",
      "metadata": {
        "id": "zLYyWMXKNXHl",
        "colab_type": "text"
      },
      "source": [
        "Lentebb található egy általános, az alap Keras-nál alacsonyabb szintű tanítási struktúra TensorFlow 2.0 alatt. Mint láthatjuk, bonyolultabb, azonban a különböző egységeken keresztül nagyobb kontrollunk van a teljes tanítási folyamat felett. Természetesen ebben az egyszerű példában erre nincs feltétlen szükségünk, de összetettebb tanítások esetén a flexibilitás sokat segíthet. "
      ]
    },
    {
      "cell_type": "code",
      "metadata": {
        "id": "bWpOiC_4OOuA",
        "colab_type": "code",
        "colab": {}
      },
      "source": [
        "# eager exection bekapcsolása, bővebb információ: https://www.tensorflow.org/guide/eager\n",
        "# a kernel-t (Colab alatt a runtime-ot) újra kell indítani, és innen lehet utána folytatni a kódrészek futtatását\n",
        "import tensorflow as tf\n",
        "import tensorflow.contrib.eager as tfe\n",
        "\n",
        "tf.enable_eager_execution()"
      ],
      "execution_count": 0,
      "outputs": []
    },
    {
      "cell_type": "code",
      "metadata": {
        "colab_type": "code",
        "id": "2ubX6JASc8sR",
        "colab": {}
      },
      "source": [
        "import tensorflow as tf\n",
        "from tensorflow.keras.layers import Dense, Flatten, Conv2D\n",
        "from tensorflow.keras import Model\n",
        "\n",
        "(x, y), (x_test, y_test) = tf.keras.datasets.mnist.load_data()\n",
        "\n",
        "x = x.astype(\"float32\")\n",
        "x_test = x_test.astype(\"float32\")"
      ],
      "execution_count": 0,
      "outputs": []
    },
    {
      "cell_type": "markdown",
      "metadata": {
        "colab_type": "text",
        "id": "KIFG1_J7c8sV"
      },
      "source": [
        "Adatok előkészítése:"
      ]
    },
    {
      "cell_type": "code",
      "metadata": {
        "colab_type": "code",
        "id": "m-9wb6spc8sW",
        "colab": {}
      },
      "source": [
        "# A szín csatorna hozzáadása\n",
        "x_train = x[:50000, ..., tf.newaxis]\n",
        "y_train = y[:50000]\n",
        "x_valid = x[50000:, ..., tf.newaxis]\n",
        "y_valid = y[50000:]\n",
        "x_test = x_test[..., tf.newaxis]\n",
        "\n",
        "# Adatok előkészítése és összekeverése\n",
        "train_ds = tf.data.Dataset.from_tensor_slices((x_train, y_train)).shuffle(10000).batch(128)\n",
        "valid_ds = tf.data.Dataset.from_tensor_slices((x_valid, y_valid)).batch(128)\n",
        "test_ds = tf.data.Dataset.from_tensor_slices((x_test, y_test)).batch(128)"
      ],
      "execution_count": 0,
      "outputs": []
    },
    {
      "cell_type": "markdown",
      "metadata": {
        "colab_type": "text",
        "id": "UAehXPTUc8sf"
      },
      "source": [
        "A tanítás előtt kapcsoljuk be a GPU-t Colab alatt (Runtime/Change runtime type). Ezután létrehozunk egy egyszerű osztályozó modellt softmax aktivációs függvénnyel:"
      ]
    },
    {
      "cell_type": "code",
      "metadata": {
        "colab_type": "code",
        "id": "oBejk9D7c8sg",
        "colab": {}
      },
      "source": [
        "class MNIST_model(Model):\n",
        "    def __init__(self):\n",
        "        super(MNIST_model, self).__init__()\n",
        "        self.conv1 = Conv2D(32, 5, activation='relu')\n",
        "        self.conv2 = Conv2D(64, 5, activation='relu')\n",
        "        self.flatten = Flatten()\n",
        "        self.d1 = Dense(128, activation='relu')\n",
        "        self.d2 = Dense(10, activation='softmax')\n",
        "\n",
        "    def call(self, x):\n",
        "        x = self.conv1(x)\n",
        "        x = self.conv2(x)\n",
        "        x = self.flatten(x)\n",
        "        x = self.d1(x)\n",
        "        return self.d2(x)\n",
        "\n",
        "model = MNIST_model()"
      ],
      "execution_count": 0,
      "outputs": []
    },
    {
      "cell_type": "markdown",
      "metadata": {
        "id": "p-Ebdiq_NXIT",
        "colab_type": "text"
      },
      "source": [
        "Ezután definiáljuk az optimizáló algoritmust és a hibafüggvényt:"
      ]
    },
    {
      "cell_type": "code",
      "metadata": {
        "id": "1jNuDRg_NXIU",
        "colab_type": "code",
        "colab": {}
      },
      "source": [
        "loss_object = tf.keras.losses.SparseCategoricalCrossentropy()\n",
        "optimizer = tf.keras.optimizers.Adam()"
      ],
      "execution_count": 0,
      "outputs": []
    },
    {
      "cell_type": "markdown",
      "metadata": {
        "id": "O9HVWAS9NXIn",
        "colab_type": "text"
      },
      "source": [
        "Majd adjuk meg a metrikákat, amiket figyelni szeretnénk a tanítás során:\n"
      ]
    },
    {
      "cell_type": "code",
      "metadata": {
        "id": "DFAxenhuNXIo",
        "colab_type": "code",
        "colab": {}
      },
      "source": [
        "train_loss = tf.keras.metrics.Mean(name='train_loss')\n",
        "train_accuracy = tf.keras.metrics.SparseCategoricalAccuracy(name='train_accuracy')\n",
        "\n",
        "valid_loss = tf.keras.metrics.Mean(name='valid_loss')\n",
        "valid_accuracy = tf.keras.metrics.SparseCategoricalAccuracy(name='valid_accuracy')\n",
        "\n",
        "test_loss = tf.keras.metrics.Mean(name='test_loss')\n",
        "test_accuracy = tf.keras.metrics.SparseCategoricalAccuracy(name='test_accuracy')"
      ],
      "execution_count": 0,
      "outputs": []
    },
    {
      "cell_type": "markdown",
      "metadata": {
        "id": "lbN7LPEmNXIt",
        "colab_type": "text"
      },
      "source": [
        "Majd adjuk meg a tanító, validációs és tesztelő függvényeinket. A @tf.function adja meg, hogy a kifejezést követő függvényt \"natív\" TensorFlow függvényként kezelje a TensorFlow, tehát pl. a számítási gráf paramétereit vagy a gradienseket el tudjuk belőle érni."
      ]
    },
    {
      "cell_type": "code",
      "metadata": {
        "id": "RmppmC5NNXIv",
        "colab_type": "code",
        "colab": {}
      },
      "source": [
        "@tf.function\n",
        "def train_step(images, labels):\n",
        "    with tf.GradientTape() as tape:\n",
        "        predictions = model(images)\n",
        "        loss = loss_object(labels, predictions)\n",
        "    gradients = tape.gradient(loss, model.trainable_variables)\n",
        "    optimizer.apply_gradients(zip(gradients, model.trainable_variables))\n",
        "\n",
        "    train_loss(loss)\n",
        "    train_accuracy(labels, predictions)\n",
        "    \n",
        "@tf.function\n",
        "def valid_step(images, labels):\n",
        "    predictions = model(images)\n",
        "    v_loss = loss_object(labels, predictions)\n",
        "\n",
        "    valid_loss(v_loss)\n",
        "    valid_accuracy(labels, predictions)    \n",
        "    \n",
        "    \n",
        "@tf.function\n",
        "def test_step(images, labels):\n",
        "    predictions = model(images)\n",
        "    t_loss = loss_object(labels, predictions)\n",
        "\n",
        "    test_loss(t_loss)\n",
        "    test_accuracy(labels, predictions)    \n",
        "\n"
      ],
      "execution_count": 0,
      "outputs": []
    },
    {
      "cell_type": "markdown",
      "metadata": {
        "id": "jOoobBAJNXIz",
        "colab_type": "text"
      },
      "source": [
        "Végül hívjuk meg a tanítást végző ciklusunkat. "
      ]
    },
    {
      "cell_type": "code",
      "metadata": {
        "id": "l8lMb_h8NXI2",
        "colab_type": "code",
        "outputId": "666b062e-36af-4073-9ba0-244eacb33c84",
        "colab": {
          "base_uri": "https://localhost:8080/",
          "height": 263
        }
      },
      "source": [
        "EPOCHS     = 50000\n",
        "patience   = 10\n",
        "min_err    = 99999\n",
        "es_counter = 0\n",
        "\n",
        "for epoch in range(EPOCHS):\n",
        "    for images, labels in train_ds:\n",
        "        train_step(images, labels)\n",
        "    for valid_images, valid_labels in valid_ds:\n",
        "        valid_step(valid_images, valid_labels)\n",
        "\n",
        "    template = 'Epoch {}, Loss: {}, Accuracy: {}, Valid Loss: {}, Valid Accuracy: {}'\n",
        "    print(template.format(epoch+1, train_loss.result(), train_accuracy.result()*100,valid_loss.result(),valid_accuracy.result()*100))\n",
        "\n",
        "    if valid_loss.result().numpy()<min_err:\n",
        "        min_err = valid_loss.result().numpy()\n",
        "        es_counter = 0\n",
        "        model.save_weights(\"weights.hdf5\")\n",
        "    else:\n",
        "        es_counter += 1\n",
        "        \n",
        "    if es_counter>patience:\n",
        "        print(\"Early stopping\")\n",
        "        model.load_weights(\"weights.hdf5\")\n",
        "        break\n",
        "    \n",
        "    # Reseteljük a metrikákat a következő epoch számára\n",
        "    train_loss.reset_states()\n",
        "    train_accuracy.reset_states()\n",
        "    valid_loss.reset_states()\n",
        "    valid_accuracy.reset_states()"
      ],
      "execution_count": 8,
      "outputs": [
        {
          "output_type": "stream",
          "text": [
            "Epoch 1, Loss: 1.3494011163711548, Accuracy: 90.86000061035156, Valid Loss: 0.07824502140283585, Valid Accuracy: 97.6199951171875\n",
            "Epoch 2, Loss: 0.05609548091888428, Accuracy: 98.31600189208984, Valid Loss: 0.06790241599082947, Valid Accuracy: 97.89999389648438\n",
            "Epoch 3, Loss: 0.032350439578294754, Accuracy: 98.97200012207031, Valid Loss: 0.07992609590291977, Valid Accuracy: 97.77999877929688\n",
            "Epoch 4, Loss: 0.023068318143486977, Accuracy: 99.20800018310547, Valid Loss: 0.06837540864944458, Valid Accuracy: 98.23999786376953\n",
            "Epoch 5, Loss: 0.02365451119840145, Accuracy: 99.26799774169922, Valid Loss: 0.07384598255157471, Valid Accuracy: 98.33999633789062\n",
            "Epoch 6, Loss: 0.01867353543639183, Accuracy: 99.40399932861328, Valid Loss: 0.1125040054321289, Valid Accuracy: 97.72999572753906\n",
            "Epoch 7, Loss: 0.016766905784606934, Accuracy: 99.48600006103516, Valid Loss: 0.10675708204507828, Valid Accuracy: 97.98999786376953\n",
            "Epoch 8, Loss: 0.014837495051324368, Accuracy: 99.5320053100586, Valid Loss: 0.0971362367272377, Valid Accuracy: 98.0\n",
            "Epoch 9, Loss: 0.015119004063308239, Accuracy: 99.57200622558594, Valid Loss: 0.09147900342941284, Valid Accuracy: 98.3699951171875\n",
            "Epoch 10, Loss: 0.008716543205082417, Accuracy: 99.72000122070312, Valid Loss: 0.10230507701635361, Valid Accuracy: 98.40999603271484\n",
            "Epoch 11, Loss: 0.01662369817495346, Accuracy: 99.52999877929688, Valid Loss: 0.10071968287229538, Valid Accuracy: 98.18000030517578\n",
            "Epoch 12, Loss: 0.013852999545633793, Accuracy: 99.60399627685547, Valid Loss: 0.10834480077028275, Valid Accuracy: 98.15999603271484\n",
            "Epoch 13, Loss: 0.009698345325887203, Accuracy: 99.68799591064453, Valid Loss: 0.15598411858081818, Valid Accuracy: 98.0199966430664\n",
            "Early stopping\n"
          ],
          "name": "stdout"
        }
      ]
    },
    {
      "cell_type": "markdown",
      "metadata": {
        "id": "RbsUmnq_NXI7",
        "colab_type": "text"
      },
      "source": [
        "Ha megvan a betanított modellünk, akkor utána megnézzük, hogy hogyan teljesít a teszt képekre (amik nem voltak benne a tanító adatbázisban:"
      ]
    },
    {
      "cell_type": "code",
      "metadata": {
        "id": "Bwc75jjHNXI8",
        "colab_type": "code",
        "outputId": "1ce30f77-21f2-4163-ba89-91921f4db6e2",
        "colab": {
          "base_uri": "https://localhost:8080/",
          "height": 34
        }
      },
      "source": [
        "for test_images, test_labels in test_ds:\n",
        "    test_step(test_images, test_labels)\n",
        "template = 'Test Loss: {}, Test Accuracy: {}'\n",
        "print(template.format(test_loss.result(),test_accuracy.result()*100))\n"
      ],
      "execution_count": 9,
      "outputs": [
        {
          "output_type": "stream",
          "text": [
            "Test Loss: 0.06800329685211182, Test Accuracy: 97.58999633789062\n"
          ],
          "name": "stdout"
        }
      ]
    }
  ]
}