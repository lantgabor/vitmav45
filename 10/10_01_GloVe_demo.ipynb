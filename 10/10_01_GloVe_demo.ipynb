{
  "nbformat": 4,
  "nbformat_minor": 0,
  "metadata": {
    "colab": {
      "name": "10_01_GloVe_demo.ipynb",
      "provenance": []
    },
    "kernelspec": {
      "name": "python3",
      "display_name": "Python 3"
    }
  },
  "cells": [
    {
      "cell_type": "markdown",
      "metadata": {
        "id": "DMnBXj3adE1w",
        "colab_type": "text"
      },
      "source": [
        "\n",
        "Copyright\n",
        "\n",
        "Jelen forráskód a Budapesti Műszaki és Gazdaságtudományi Egyetemen tartott\n",
        "\"Deep Learning a gyakorlatban Python és LUA alapon\" tantárgy segédanyagaként készült.\n",
        "\n",
        "A tantárgy honlapja: http://smartlab.tmit.bme.hu/oktatas-deep-learning\n",
        "Deep Learning kutatás: http://smartlab.tmit.bme.hu/deep-learning\n",
        "\n",
        "A forráskódot GPLv3 licensz védi. Újrafelhasználás esetén lehetőség szerint kérjük\n",
        "az alábbi szerzőt értesíteni.\n",
        "\n",
        "2019 (c) Csapó Tamás Gábor (csapot kukac tmit pont bme pont hu),\n",
        "Gyires-Tóth Bálint, Zainkó Csaba\n",
        "\n",
        "\n",
        "Links:\n",
        "    [glove] https://nlp.stanford.edu/projects/glove/\n",
        "    [glove.6B.50d.txt] http://nlp.stanford.edu/data/glove.6B.zip\n"
      ]
    },
    {
      "cell_type": "code",
      "metadata": {
        "id": "a02R7idyc8FW",
        "colab_type": "code",
        "colab": {
          "base_uri": "https://localhost:8080/",
          "height": 257
        },
        "outputId": "014d5353-ae83-46e6-f406-94649bd2a968"
      },
      "source": [
        "!wget http://downloads.cs.stanford.edu/nlp/data/glove.6B.zip\n",
        "!unzip glove.6B.zip glove.6B.50d.txt"
      ],
      "execution_count": 1,
      "outputs": [
        {
          "output_type": "stream",
          "text": [
            "--2019-11-29 15:14:12--  http://downloads.cs.stanford.edu/nlp/data/glove.6B.zip\n",
            "Resolving downloads.cs.stanford.edu (downloads.cs.stanford.edu)... 171.64.64.22\n",
            "Connecting to downloads.cs.stanford.edu (downloads.cs.stanford.edu)|171.64.64.22|:80... connected.\n",
            "HTTP request sent, awaiting response... 200 OK\n",
            "Length: 862182613 (822M) [application/zip]\n",
            "Saving to: ‘glove.6B.zip’\n",
            "\n",
            "glove.6B.zip        100%[===================>] 822.24M  1.99MB/s    in 6m 29s  \n",
            "\n",
            "2019-11-29 15:20:41 (2.11 MB/s) - ‘glove.6B.zip’ saved [862182613/862182613]\n",
            "\n",
            "Archive:  glove.6B.zip\n",
            "  inflating: glove.6B.50d.txt        \n"
          ],
          "name": "stdout"
        }
      ]
    },
    {
      "cell_type": "code",
      "metadata": {
        "id": "RLkd26R3dRcw",
        "colab_type": "code",
        "outputId": "6f24ad83-6891-4d27-9062-c5ae10c0410d",
        "colab": {
          "base_uri": "https://localhost:8080/",
          "height": 35
        }
      },
      "source": [
        "#Vektorok beolvasása\n",
        "import numpy as np\n",
        "words = set()\n",
        "vectors = {}\n",
        "with open('glove.6B.50d.txt', 'r', encoding=\"utf8\", errors='ignore') as f:\n",
        "  for line in f:\n",
        "    line = line.strip().split()\n",
        "    cword = line[0]\n",
        "    \n",
        "    try:\n",
        "      v= np.array(line[1:], dtype=np.float64)\n",
        "      if v.shape[0] == 50:\n",
        "          vectors[cword]=v\n",
        "          words.add(cword)\n",
        "      else:\n",
        "          print(\"Error in line: {}\".format(line))\n",
        "    except:\n",
        "          print(\"Error in line: {}\".format(line))\n",
        "print(\"Number of read words: {}\".format(len(words)))\n"
      ],
      "execution_count": 2,
      "outputs": [
        {
          "output_type": "stream",
          "text": [
            "Number of read words: 400000\n"
          ],
          "name": "stdout"
        }
      ]
    },
    {
      "cell_type": "code",
      "metadata": {
        "id": "EQb7xXx4k6LF",
        "colab_type": "code",
        "colab": {}
      },
      "source": [
        "#Hasonló szavak keresése koszinusz hasonlóság alapján\n",
        "def find_similarity(word):\n",
        "    word=word.lower()\n",
        "    v1=vectors[word]\n",
        "    top = 5  # top 5 tárolása\n",
        "    max= np.ones(top)* -200\n",
        "    mwords= np.chararray(top,itemsize=20,unicode=True)\n",
        "    mwords[:]= None\n",
        "    \n",
        "    #cos similarity\n",
        "    u = np.sqrt(np.sum(np.square(v1)))\n",
        "    \n",
        "    for w in words:  \n",
        "        if w in word:\n",
        "           continue      \n",
        "        vm=vectors[w]\n",
        "        uv = np.dot(v1,vm)\n",
        "        v = np.sqrt(np.sum(np.square(vm)))\n",
        "        cosine_sim=  uv/(u*v)\n",
        "    \n",
        "        \n",
        "        for i in range(top):\n",
        "          if cosine_sim > max[i]:\n",
        "              for j in range(top-1,i,-1):\n",
        "                max[j]=max[j-1]\n",
        "                mwords[j]=mwords[j-1]\n",
        "              #print(w)\n",
        "              mwords[i]=w\n",
        "              max[i]=cosine_sim\n",
        "              break\n",
        "            \n",
        "        \n",
        "    return mwords,max\n",
        "\n"
      ],
      "execution_count": 0,
      "outputs": []
    },
    {
      "cell_type": "code",
      "metadata": {
        "id": "NdYQrdxHlceU",
        "colab_type": "code",
        "colab": {}
      },
      "source": [
        "#Hasonlók keresése és kiíratása \n",
        "def find_and_print_similarity(w1):\n",
        "  print(\"Find similarity: {}\".format(w1))\n",
        "  top5_words,values=find_similarity(w1)\n",
        "\n",
        "  for i, w in enumerate(top5_words):\n",
        "     print(\"{}. {:6.4f} : {}\".format(i,values[i],w))"
      ],
      "execution_count": 0,
      "outputs": []
    },
    {
      "cell_type": "code",
      "metadata": {
        "id": "PqbgPdQLlp0I",
        "colab_type": "code",
        "outputId": "6555c93c-fa2f-4bd7-9890-ec39f2f24215",
        "colab": {
          "base_uri": "https://localhost:8080/",
          "height": 128
        }
      },
      "source": [
        "find_and_print_similarity(\"dollar\")"
      ],
      "execution_count": 5,
      "outputs": [
        {
          "output_type": "stream",
          "text": [
            "Find similarity: dollar\n",
            "0. 0.8264 : euro\n",
            "1. 0.8199 : currency\n",
            "2. 0.7883 : dollars\n",
            "3. 0.7817 : greenback\n",
            "4. 0.7810 : price\n"
          ],
          "name": "stdout"
        }
      ]
    },
    {
      "cell_type": "code",
      "metadata": {
        "id": "YABaaun2mpTc",
        "colab_type": "code",
        "outputId": "b865cd0b-7633-4ca7-fa38-5b4abca9ad98",
        "colab": {
          "base_uri": "https://localhost:8080/",
          "height": 128
        }
      },
      "source": [
        "find_and_print_similarity(\"sea\")"
      ],
      "execution_count": 6,
      "outputs": [
        {
          "output_type": "stream",
          "text": [
            "Find similarity: sea\n",
            "0. 0.8812 : ocean\n",
            "1. 0.8739 : waters\n",
            "2. 0.8261 : seas\n",
            "3. 0.7974 : coast\n",
            "4. 0.7801 : mediterranean\n"
          ],
          "name": "stdout"
        }
      ]
    },
    {
      "cell_type": "code",
      "metadata": {
        "id": "EagCHtyHfxRY",
        "colab_type": "code",
        "colab": {}
      },
      "source": [
        "#Analógia keresése a vektortérben\n",
        "def find_analogy(word1, word2, word3):\n",
        "    word1=word1.lower()\n",
        "    word2=word2.lower()\n",
        "    word3=word3.lower()\n",
        "    \n",
        "    v1=vectors[word1]\n",
        "    v2=vectors[word2]\n",
        "    v3=vectors[word3]\n",
        " \n",
        "    top = 5 \n",
        "    max= np.ones(top)* -200\n",
        "    mwords= np.chararray(top,itemsize=20,unicode=True)\n",
        "    mwords[:]= None\n",
        "    \n",
        "    #cos similarity\n",
        "    v21= v2 - v1\n",
        "    \n",
        "    u = np.sqrt(np.sum(np.square(v21)))\n",
        "    \n",
        "    for w in words:        \n",
        "        if w in [word1, word2, word3] :\n",
        "            continue\n",
        "       \n",
        "        vm=vectors[w] -v3\n",
        "        uv = np.dot(v21,vm)\n",
        "        v = np.sqrt(np.sum(np.square(vm)))\n",
        "        cosine_sim=  uv/(u*v)\n",
        "    \n",
        "        \n",
        "        for i in range(top):\n",
        "          if cosine_sim > max[i]:\n",
        "              for j in range(top-1,i,-1):\n",
        "                max[j]=max[j-1]\n",
        "                mwords[j]=mwords[j-1]\n",
        "              #print(w)\n",
        "              mwords[i]=w\n",
        "              max[i]=cosine_sim\n",
        "              break\n",
        "            \n",
        "        \n",
        "    return mwords,max\n",
        "\n"
      ],
      "execution_count": 0,
      "outputs": []
    },
    {
      "cell_type": "code",
      "metadata": {
        "id": "95LnZPoGhBw5",
        "colab_type": "code",
        "colab": {}
      },
      "source": [
        "#Analógia keresése és a top 5 kiíratása\n",
        "def find_and_print_analogy(w1,w2,w3):\n",
        "  print(\"Find analogy: {} - {} + {} =\".format(w1,w2,w3))\n",
        "  top5_words,values=find_analogy(w1,w2,w3)\n",
        "\n",
        "  for i, w in enumerate(top5_words):\n",
        "     print(\"{}. {:6.4f} : {}\".format(i,values[i],w))"
      ],
      "execution_count": 0,
      "outputs": []
    },
    {
      "cell_type": "code",
      "metadata": {
        "id": "o42RiemBhEBJ",
        "colab_type": "code",
        "outputId": "c34b05bd-a13e-4f37-eab5-c7a252a3dafd",
        "colab": {
          "base_uri": "https://localhost:8080/",
          "height": 128
        }
      },
      "source": [
        "find_and_print_analogy('woman', 'queen', 'man')"
      ],
      "execution_count": 9,
      "outputs": [
        {
          "output_type": "stream",
          "text": [
            "Find analogy: woman - queen + man =\n",
            "0. 0.8397 : king\n",
            "1. 0.8330 : coronation\n",
            "2. 0.7883 : prince\n",
            "3. 0.7693 : crown\n",
            "4. 0.7607 : vi\n"
          ],
          "name": "stdout"
        }
      ]
    },
    {
      "cell_type": "code",
      "metadata": {
        "id": "nJRw6DQMiu6U",
        "colab_type": "code",
        "outputId": "78f5e05b-130d-41e7-cb6a-55a71aadd534",
        "colab": {
          "base_uri": "https://localhost:8080/",
          "height": 128
        }
      },
      "source": [
        "find_and_print_analogy('France', 'Paris', 'Germany')"
      ],
      "execution_count": 10,
      "outputs": [
        {
          "output_type": "stream",
          "text": [
            "Find analogy: France - Paris + Germany =\n",
            "0. 0.7957 : berlin\n",
            "1. 0.7081 : aviv\n",
            "2. 0.6967 : tel\n",
            "3. 0.6801 : soho\n",
            "4. 0.6776 : stockholm\n"
          ],
          "name": "stdout"
        }
      ]
    },
    {
      "cell_type": "code",
      "metadata": {
        "id": "9M8mQQ86i9Lt",
        "colab_type": "code",
        "outputId": "97868428-6046-4c81-e84a-b91af875b795",
        "colab": {
          "base_uri": "https://localhost:8080/",
          "height": 128
        }
      },
      "source": [
        "find_and_print_analogy('usa', 'soccer', 'England')"
      ],
      "execution_count": 11,
      "outputs": [
        {
          "output_type": "stream",
          "text": [
            "Find analogy: usa - soccer + England =\n",
            "0. 0.3973 : premiership\n",
            "1. 0.3755 : football\n",
            "2. 0.3536 : scolari\n",
            "3. 0.3407 : squad\n",
            "4. 0.3243 : rugby\n"
          ],
          "name": "stdout"
        }
      ]
    },
    {
      "cell_type": "code",
      "metadata": {
        "id": "tFIyA8ctjxTF",
        "colab_type": "code",
        "outputId": "e9fe75df-23b8-44ff-841b-3347f21a249e",
        "colab": {
          "base_uri": "https://localhost:8080/",
          "height": 128
        }
      },
      "source": [
        "find_and_print_analogy('Europeans', 'euro', 'americans')"
      ],
      "execution_count": 12,
      "outputs": [
        {
          "output_type": "stream",
          "text": [
            "Find analogy: Europeans - euro + americans =\n",
            "0. 0.8170 : dollar\n",
            "1. 0.7368 : deficit\n",
            "2. 0.7079 : net\n",
            "3. 0.6972 : drop\n",
            "4. 0.6963 : quarter\n"
          ],
          "name": "stdout"
        }
      ]
    },
    {
      "cell_type": "code",
      "metadata": {
        "id": "ha_BTmEMmyBR",
        "colab_type": "code",
        "outputId": "e3b2ade3-1f64-4337-872a-58aedbc80f31",
        "colab": {
          "base_uri": "https://localhost:8080/",
          "height": 128
        }
      },
      "source": [
        "find_and_print_analogy('car', 'road', 'boat')"
      ],
      "execution_count": 13,
      "outputs": [
        {
          "output_type": "stream",
          "text": [
            "Find analogy: car - road + boat =\n",
            "0. 0.6125 : river\n",
            "1. 0.5757 : estuary\n",
            "2. 0.5592 : transfrontier\n",
            "3. 0.5576 : parkway\n",
            "4. 0.5543 : peninsula\n"
          ],
          "name": "stdout"
        }
      ]
    },
    {
      "cell_type": "code",
      "metadata": {
        "id": "kIqaDNhAntmm",
        "colab_type": "code",
        "colab": {}
      },
      "source": [
        ""
      ],
      "execution_count": 0,
      "outputs": []
    }
  ]
}