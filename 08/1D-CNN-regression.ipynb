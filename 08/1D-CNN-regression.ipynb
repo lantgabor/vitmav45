{
 "cells": [
  {
   "cell_type": "markdown",
   "metadata": {},
   "source": [
    "# Copyright\n",
    "<pre>\n",
    "Jelen forráskód a Budapesti Műszaki és Gazdaságtudományi Egyetemen \n",
    "tartott \"Deep Learning a gyakorlatban Python és LUA alapon\" tantárgy segédanyagaként készült.\n",
    "\n",
    "A tantárgy honlapja: http://smartlab.tmit.bme.hu/oktatas-deep-learning\n",
    "Deep Learning kutatás: http://smartlab.tmit.bme.hu/deep-learning\n",
    "\n",
    "A forráskódot GPLv3 licensz védi. Újrafelhasználás esetén lehetőség szerint kérejük az alábbi szerzőt értesíteni.\n",
    "\n",
    "2019 (c) Gyires-Tóth Bálint (toth.b kukac tmit pont bme pont hu), Zainkó Csaba\n",
    "</pre>"
   ]
  },
  {
   "cell_type": "markdown",
   "metadata": {},
   "source": [
    "Jelen notebook egy példakódot mutat be egy dimenziós konvolúció alapú szekvenciális adat modellezésre. A példakód elsődlegesen az 1D konvolúcióra koncentrál, az általános megfontolások (standardizálás, min-max skálázás, early stopping, regularizáció, stb.) itt nem szerepelnek, de éles feladatokban szükségszerűek. "
   ]
  },
  {
   "cell_type": "code",
   "execution_count": 1,
   "metadata": {
    "colab": {
     "base_uri": "https://localhost:8080/",
     "height": 35
    },
    "colab_type": "code",
    "id": "eWBNCVa0bf65",
    "outputId": "02206654-89c6-4f8f-dfe7-0abeeeb80c07"
   },
   "outputs": [
    {
     "name": "stderr",
     "output_type": "stream",
     "text": [
      "Using TensorFlow backend.\n"
     ]
    }
   ],
   "source": [
    "import numpy as np\n",
    "from keras.models import Sequential\n",
    "from keras.layers.core import Activation, Dense, Flatten\n",
    "from keras.optimizers import SGD\n",
    "import matplotlib.pyplot as plt\n",
    "from keras.layers.convolutional import  Conv1D, MaxPooling1D"
   ]
  },
  {
   "cell_type": "markdown",
   "metadata": {},
   "source": [
    "Az egy dimenziós konvolúciós rétegek létrehozása."
   ]
  },
  {
   "cell_type": "code",
   "execution_count": 2,
   "metadata": {
    "colab": {},
    "colab_type": "code",
    "id": "exAdDB6obuET"
   },
   "outputs": [],
   "source": [
    "def make_1d_convnet(window_size, filter_length, nb_input_series=1, nb_outputs=1, nb_filter=4):\n",
    "    model = Sequential()\n",
    "    model.add(Conv1D(filters=nb_filter, kernel_size=filter_length, activation='relu', input_shape=(window_size, nb_input_series)))\n",
    "    model.add(MaxPooling1D())\n",
    "    model.add(Conv1D(filters=nb_filter, kernel_size=filter_length, activation='relu'))\n",
    "    model.add(MaxPooling1D())\n",
    "    model.add(Flatten())\n",
    "    model.add(Dense(nb_outputs, activation='linear'))\n",
    "    model.compile(loss='mse', optimizer='adam', metrics=['mae'])\n",
    "    return model"
   ]
  },
  {
   "cell_type": "markdown",
   "metadata": {},
   "source": [
    "Az idősor adatokból az egy dimenziós konvolúció számára megfelelő formátum létrehozása."
   ]
  },
  {
   "cell_type": "code",
   "execution_count": 3,
   "metadata": {
    "colab": {},
    "colab_type": "code",
    "id": "Xmuu8Fg0bw1G"
   },
   "outputs": [],
   "source": [
    "def make_timeseries_instances(timeseries, window_size):\n",
    "    timeseries = np.asarray(timeseries)\n",
    "    assert 0 < window_size < timeseries.shape[0] , \"Out of range 0 < {} < {} \".format(window_size,timeseries.shape[0])\n",
    "    X = np.atleast_3d(np.array([timeseries[start:start + window_size] for start in range(0, timeseries.shape[0] - window_size)]))\n",
    "    Y = timeseries[window_size:]\n",
    "    return X, Y"
   ]
  },
  {
   "cell_type": "markdown",
   "metadata": {},
   "source": [
    "A hálózat létrehozását, adatok formázását és tanítását az alábbi függvény végzi, és visszatér a predikcióval és az eredeti értékekkel:"
   ]
  },
  {
   "cell_type": "code",
   "execution_count": 4,
   "metadata": {
    "colab": {},
    "colab_type": "code",
    "id": "W_LqZZascuy5"
   },
   "outputs": [],
   "source": [
    "def evaluate_timeseries(timeseries, window_size, valid_split=0.15, test_split=0.15):\n",
    "    filter_length = 5\n",
    "    nb_filter = 4\n",
    "    timeseries = np.atleast_2d(timeseries)\n",
    "    if timeseries.shape[0] == 1:\n",
    "        timeseries = timeseries.T       # 1D vektor -> 2D matrix\n",
    "    nb_samples, nb_series = timeseries.shape\n",
    "    model = make_1d_convnet(window_size=window_size, filter_length=filter_length, nb_input_series=nb_series, nb_outputs=nb_series, nb_filter=nb_filter)\n",
    "    model.summary()\n",
    "    X, Y = make_timeseries_instances(timeseries, window_size)\n",
    "    \n",
    "    valid_size = int(nb_samples*(1-test_split-valid_split))\n",
    "    test_size = int(nb_samples*(1-test_split))\n",
    "    X_train, Y_train = X[:valid_size], Y[:valid_size]\n",
    "    X_valid, Y_valid = X[valid_size:test_size], Y[valid_size:test_size]\n",
    "    X_test, Y_test   = X[test_size:], Y[test_size:]\n",
    "    \n",
    "    model.fit(X_train, Y_train, epochs=50, batch_size=16, validation_data=(X_valid, Y_valid), verbose=2)\n",
    "    \n",
    "    preds   = model.predict(X_test)\n",
    "\n",
    "    return Y_test, preds   \n"
   ]
  },
  {
   "cell_type": "markdown",
   "metadata": {},
   "source": [
    "Minta adatok létrehozása és a tanítás meghívása. "
   ]
  },
  {
   "cell_type": "code",
   "execution_count": 5,
   "metadata": {
    "colab": {
     "base_uri": "https://localhost:8080/",
     "height": 6213
    },
    "colab_type": "code",
    "id": "Pj3C21cOc62a",
    "outputId": "5d2f9163-5671-4518-b9e0-0536187cf18b"
   },
   "outputs": [
    {
     "name": "stdout",
     "output_type": "stream",
     "text": [
      "_________________________________________________________________\n",
      "Layer (type)                 Output Shape              Param #   \n",
      "=================================================================\n",
      "conv1d_1 (Conv1D)            (None, 16, 4)             24        \n",
      "_________________________________________________________________\n",
      "max_pooling1d_1 (MaxPooling1 (None, 8, 4)              0         \n",
      "_________________________________________________________________\n",
      "conv1d_2 (Conv1D)            (None, 4, 4)              84        \n",
      "_________________________________________________________________\n",
      "max_pooling1d_2 (MaxPooling1 (None, 2, 4)              0         \n",
      "_________________________________________________________________\n",
      "flatten_1 (Flatten)          (None, 8)                 0         \n",
      "_________________________________________________________________\n",
      "dense_1 (Dense)              (None, 1)                 9         \n",
      "=================================================================\n",
      "Total params: 117\n",
      "Trainable params: 117\n",
      "Non-trainable params: 0\n",
      "_________________________________________________________________\n",
      "Train on 700 samples, validate on 150 samples\n",
      "Epoch 1/50\n",
      " - 1s - loss: 11.2213 - mean_absolute_error: 2.8686 - val_loss: 12.9206 - val_mean_absolute_error: 3.0535\n",
      "Epoch 2/50\n",
      " - 0s - loss: 8.0723 - mean_absolute_error: 2.4177 - val_loss: 7.3667 - val_mean_absolute_error: 2.3470\n",
      "Epoch 3/50\n",
      " - 0s - loss: 4.1792 - mean_absolute_error: 1.6705 - val_loss: 3.5660 - val_mean_absolute_error: 1.5449\n",
      "Epoch 4/50\n",
      " - 0s - loss: 2.5856 - mean_absolute_error: 1.2947 - val_loss: 2.7261 - val_mean_absolute_error: 1.3512\n",
      "Epoch 5/50\n",
      " - 0s - loss: 1.9523 - mean_absolute_error: 1.1310 - val_loss: 1.9803 - val_mean_absolute_error: 1.1590\n",
      "Epoch 6/50\n",
      " - 0s - loss: 1.4004 - mean_absolute_error: 0.9655 - val_loss: 1.3101 - val_mean_absolute_error: 0.9361\n",
      "Epoch 7/50\n",
      " - 0s - loss: 0.9679 - mean_absolute_error: 0.7959 - val_loss: 0.9409 - val_mean_absolute_error: 0.7654\n",
      "Epoch 8/50\n",
      " - 0s - loss: 0.7048 - mean_absolute_error: 0.6622 - val_loss: 0.6109 - val_mean_absolute_error: 0.6265\n",
      "Epoch 9/50\n",
      " - 0s - loss: 0.5293 - mean_absolute_error: 0.5682 - val_loss: 0.4605 - val_mean_absolute_error: 0.5426\n",
      "Epoch 10/50\n",
      " - 0s - loss: 0.4404 - mean_absolute_error: 0.5139 - val_loss: 0.3799 - val_mean_absolute_error: 0.4752\n",
      "Epoch 11/50\n",
      " - 0s - loss: 0.3908 - mean_absolute_error: 0.4890 - val_loss: 0.3344 - val_mean_absolute_error: 0.4495\n",
      "Epoch 12/50\n",
      " - 0s - loss: 0.3557 - mean_absolute_error: 0.4738 - val_loss: 0.2992 - val_mean_absolute_error: 0.4260\n",
      "Epoch 13/50\n",
      " - 0s - loss: 0.3274 - mean_absolute_error: 0.4469 - val_loss: 0.2880 - val_mean_absolute_error: 0.4176\n",
      "Epoch 14/50\n",
      " - 0s - loss: 0.3084 - mean_absolute_error: 0.4396 - val_loss: 0.2495 - val_mean_absolute_error: 0.3931\n",
      "Epoch 15/50\n",
      " - 0s - loss: 0.2847 - mean_absolute_error: 0.4176 - val_loss: 0.2258 - val_mean_absolute_error: 0.3642\n",
      "Epoch 16/50\n",
      " - 0s - loss: 0.2654 - mean_absolute_error: 0.3990 - val_loss: 0.2095 - val_mean_absolute_error: 0.3474\n",
      "Epoch 17/50\n",
      " - 0s - loss: 0.2479 - mean_absolute_error: 0.3868 - val_loss: 0.1952 - val_mean_absolute_error: 0.3354\n",
      "Epoch 18/50\n",
      " - 0s - loss: 0.2363 - mean_absolute_error: 0.3729 - val_loss: 0.1831 - val_mean_absolute_error: 0.3409\n",
      "Epoch 19/50\n",
      " - 0s - loss: 0.2255 - mean_absolute_error: 0.3723 - val_loss: 0.1728 - val_mean_absolute_error: 0.3217\n",
      "Epoch 20/50\n",
      " - 0s - loss: 0.2138 - mean_absolute_error: 0.3550 - val_loss: 0.1614 - val_mean_absolute_error: 0.3046\n",
      "Epoch 21/50\n",
      " - 0s - loss: 0.2073 - mean_absolute_error: 0.3529 - val_loss: 0.1560 - val_mean_absolute_error: 0.3247\n",
      "Epoch 22/50\n",
      " - 0s - loss: 0.1962 - mean_absolute_error: 0.3449 - val_loss: 0.1455 - val_mean_absolute_error: 0.2904\n",
      "Epoch 23/50\n",
      " - 0s - loss: 0.1859 - mean_absolute_error: 0.3311 - val_loss: 0.1380 - val_mean_absolute_error: 0.2898\n",
      "Epoch 24/50\n",
      " - 0s - loss: 0.1790 - mean_absolute_error: 0.3269 - val_loss: 0.1333 - val_mean_absolute_error: 0.2801\n",
      "Epoch 25/50\n",
      " - 0s - loss: 0.1733 - mean_absolute_error: 0.3179 - val_loss: 0.1274 - val_mean_absolute_error: 0.2731\n",
      "Epoch 26/50\n",
      " - 0s - loss: 0.1690 - mean_absolute_error: 0.3153 - val_loss: 0.1267 - val_mean_absolute_error: 0.2966\n",
      "Epoch 27/50\n",
      " - 0s - loss: 0.1617 - mean_absolute_error: 0.3057 - val_loss: 0.1127 - val_mean_absolute_error: 0.2644\n",
      "Epoch 28/50\n",
      " - 0s - loss: 0.1548 - mean_absolute_error: 0.2996 - val_loss: 0.1152 - val_mean_absolute_error: 0.2545\n",
      "Epoch 29/50\n",
      " - 0s - loss: 0.1493 - mean_absolute_error: 0.2913 - val_loss: 0.1079 - val_mean_absolute_error: 0.2474\n",
      "Epoch 30/50\n",
      " - 0s - loss: 0.1420 - mean_absolute_error: 0.2822 - val_loss: 0.0996 - val_mean_absolute_error: 0.2400\n",
      "Epoch 31/50\n",
      " - 0s - loss: 0.1411 - mean_absolute_error: 0.2828 - val_loss: 0.0963 - val_mean_absolute_error: 0.2385\n",
      "Epoch 32/50\n",
      " - 0s - loss: 0.1357 - mean_absolute_error: 0.2743 - val_loss: 0.0980 - val_mean_absolute_error: 0.2590\n",
      "Epoch 33/50\n",
      " - 0s - loss: 0.1321 - mean_absolute_error: 0.2729 - val_loss: 0.0886 - val_mean_absolute_error: 0.2350\n",
      "Epoch 34/50\n",
      " - 0s - loss: 0.1284 - mean_absolute_error: 0.2649 - val_loss: 0.0881 - val_mean_absolute_error: 0.2429\n",
      "Epoch 35/50\n",
      " - 0s - loss: 0.1243 - mean_absolute_error: 0.2607 - val_loss: 0.0840 - val_mean_absolute_error: 0.2218\n",
      "Epoch 36/50\n",
      " - 0s - loss: 0.1237 - mean_absolute_error: 0.2582 - val_loss: 0.0811 - val_mean_absolute_error: 0.2165\n",
      "Epoch 37/50\n",
      " - 0s - loss: 0.1201 - mean_absolute_error: 0.2534 - val_loss: 0.0768 - val_mean_absolute_error: 0.2076\n",
      "Epoch 38/50\n",
      " - 0s - loss: 0.1203 - mean_absolute_error: 0.2534 - val_loss: 0.0797 - val_mean_absolute_error: 0.2105\n",
      "Epoch 39/50\n",
      " - 0s - loss: 0.1150 - mean_absolute_error: 0.2472 - val_loss: 0.0713 - val_mean_absolute_error: 0.2164\n",
      "Epoch 40/50\n",
      " - 0s - loss: 0.1117 - mean_absolute_error: 0.2436 - val_loss: 0.0710 - val_mean_absolute_error: 0.2005\n",
      "Epoch 41/50\n",
      " - 0s - loss: 0.1097 - mean_absolute_error: 0.2383 - val_loss: 0.0676 - val_mean_absolute_error: 0.2090\n",
      "Epoch 42/50\n",
      " - 0s - loss: 0.1054 - mean_absolute_error: 0.2333 - val_loss: 0.0626 - val_mean_absolute_error: 0.1893\n",
      "Epoch 43/50\n",
      " - 0s - loss: 0.1043 - mean_absolute_error: 0.2314 - val_loss: 0.0617 - val_mean_absolute_error: 0.1856\n",
      "Epoch 44/50\n",
      " - 0s - loss: 0.1012 - mean_absolute_error: 0.2253 - val_loss: 0.0605 - val_mean_absolute_error: 0.1953\n",
      "Epoch 45/50\n",
      " - 0s - loss: 0.1023 - mean_absolute_error: 0.2290 - val_loss: 0.0597 - val_mean_absolute_error: 0.1832\n",
      "Epoch 46/50\n",
      " - 0s - loss: 0.0980 - mean_absolute_error: 0.2225 - val_loss: 0.0536 - val_mean_absolute_error: 0.1737\n",
      "Epoch 47/50\n",
      " - 0s - loss: 0.0975 - mean_absolute_error: 0.2213 - val_loss: 0.0521 - val_mean_absolute_error: 0.1806\n",
      "Epoch 48/50\n",
      " - 0s - loss: 0.0932 - mean_absolute_error: 0.2153 - val_loss: 0.0561 - val_mean_absolute_error: 0.1951\n",
      "Epoch 49/50\n",
      " - 0s - loss: 0.0930 - mean_absolute_error: 0.2146 - val_loss: 0.0491 - val_mean_absolute_error: 0.1746\n",
      "Epoch 50/50\n",
      " - 0s - loss: 0.0923 - mean_absolute_error: 0.2147 - val_loss: 0.0463 - val_mean_absolute_error: 0.1680\n"
     ]
    }
   ],
   "source": [
    "# adatok elkészítése\n",
    "lp \t= np.linspace(-10*np.pi,10*np.pi,1000)\n",
    "X \t= np.sin(lp)*3+np.cos(lp*2)+np.sin(np.pi/2+lp*4)*1.5+np.log(np.abs(lp))\n",
    "window_size = 20\n",
    "\n",
    "targets, preds = evaluate_timeseries(X, window_size)"
   ]
  },
  {
   "cell_type": "markdown",
   "metadata": {},
   "source": [
    "Végül megjelenítjük a predikciót és az eredeti értékeket. "
   ]
  },
  {
   "cell_type": "code",
   "execution_count": 6,
   "metadata": {
    "colab": {},
    "colab_type": "code",
    "id": "74jMVTix8qK6"
   },
   "outputs": [
    {
     "data": {
      "text/plain": [
       "<matplotlib.legend.Legend at 0x17b23470>"
      ]
     },
     "execution_count": 6,
     "metadata": {},
     "output_type": "execute_result"
    },
    {
     "data": {
      "image/png": "[encoded data removed]",
      "text/plain": [
       "<Figure size 864x576 with 1 Axes>"
      ]
     },
     "metadata": {},
     "output_type": "display_data"
    }
   ],
   "source": [
    "plt.figure(figsize=(12,8))\n",
    "plt.plot(preds, color='r', label=\"Predictions\")\n",
    "plt.plot(targets, color='g', label=\"Targets\")\n",
    "plt.legend()"
   ]
  }
 ],
 "metadata": {
  "accelerator": "GPU",
  "colab": {
   "collapsed_sections": [],
   "name": "1D-CNN-sinx-regression-simplified.ipynb",
   "provenance": [],
   "version": "0.3.2"
  },
  "kernelspec": {
   "display_name": "Python 3",
   "language": "python",
   "name": "python3"
  },
  "language_info": {
   "codemirror_mode": {
    "name": "ipython",
    "version": 3
   },
   "file_extension": ".py",
   "mimetype": "text/x-python",
   "name": "python",
   "nbconvert_exporter": "python",
   "pygments_lexer": "ipython3",
   "version": "3.6.6"
  }
 },
 "nbformat": 4,
 "nbformat_minor": 1
}
